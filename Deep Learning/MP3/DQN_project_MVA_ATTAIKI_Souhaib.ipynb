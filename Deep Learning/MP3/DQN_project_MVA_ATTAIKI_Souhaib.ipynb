{
 "cells": [
  {
   "cell_type": "markdown",
   "metadata": {},
   "source": [
    "**You may need to install [OpenCV](https://pypi.python.org/pypi/opencv-python) and [scikit-video](http://www.scikit-video.org/stable/).**"
   ]
  },
  {
   "cell_type": "code",
   "execution_count": 1,
   "metadata": {},
   "outputs": [
    {
     "name": "stderr",
     "output_type": "stream",
     "text": [
      "Using TensorFlow backend.\n"
     ]
    }
   ],
   "source": [
    "import keras\n",
    "import numpy as np\n",
    "import io\n",
    "import base64\n",
    "from IPython.display import HTML\n",
    "import skvideo.io\n",
    "import cv2\n",
    "import json\n",
    "\n",
    "from keras.models import Sequential,model_from_json\n",
    "from keras.layers.core import Dense\n",
    "from keras.optimizers import sgd, Adam\n",
    "from keras.layers import Conv2D, MaxPooling2D, Activation, AveragePooling2D,Reshape,BatchNormalization, Flatten\n",
    "\n",
    "import tensorflow as tf\n",
    "from keras import backend as K\n",
    "\n",
    "config = tf.ConfigProto(intra_op_parallelism_threads=5,\\\n",
    "        inter_op_parallelism_threads=5, allow_soft_placement=True,\\\n",
    "        device_count = {'CPU' : 1, 'GPU' : 1})\n",
    "session = tf.Session(config=config)\n",
    "K.set_session(session)"
   ]
  },
  {
   "cell_type": "markdown",
   "metadata": {},
   "source": [
    "# MiniProject #3: Deep Reinforcement Learning"
   ]
  },
  {
   "cell_type": "markdown",
   "metadata": {},
   "source": [
    "__Notations__: $E_p$ is the expectation under probability $p$. Please justify each of your answer and widely comment your code."
   ]
  },
  {
   "cell_type": "markdown",
   "metadata": {},
   "source": [
    "# Context"
   ]
  },
  {
   "cell_type": "markdown",
   "metadata": {},
   "source": [
    "In a reinforcement learning algorithm, we modelize each step $t$ as an action $a_t$ obtained from a state $s_t$, i.e. $\\{(a_{t},s_{t})_{t\\leq T}\\}$ having the Markov property. We consider a discount factor $\\gamma \\in [0,1]$ that ensures convergence. The goal is to find among all the policies $\\pi$, one that maximizes the expected reward:\n",
    "\n",
    "\\begin{equation*}\n",
    "R(\\pi)=\\sum_{t\\leq T}E_{p^{\\pi}}[\\gamma^t r(s_{t},a_{t})] \\> ,\n",
    "\\end{equation*}\n",
    "\n",
    "where: \n",
    "\\begin{equation*}p^{\\pi}(a_{0},a_{1},s_{1},...,a_{T},s_{T})=p(a_{0})\\prod_{t=1}^{T}\\pi(a_{t}|s_{t})p(s_{t+1}|s_{t},a_{t}) \\> .\n",
    "\\end{equation*}\n",
    "\n",
    "We note the $Q$-function:\n",
    "\n",
    "\\begin{equation*}Q^\\pi(s,a)=E_{p^{\\pi}}[\\sum_{t\\leq T}\\gamma^{t}r(s_{t},a_{t})|s_{0}=s,a_{0}=a] \\> .\n",
    "\\end{equation*}\n",
    "\n",
    "Thus, the optimal Q function is:\n",
    "\\begin{equation*}\n",
    "Q^*(s,a)=\\max_{\\pi}Q^\\pi(s,a) \\> .\n",
    "\\end{equation*}\n",
    "\n",
    "In this project, we will apply the deep reinforcement learning techniques to a simple game: an agent will have to learn from scratch a policy that will permit it maximizing a reward."
   ]
  },
  {
   "cell_type": "markdown",
   "metadata": {},
   "source": [
    "## The environment, the agent and the game"
   ]
  },
  {
   "cell_type": "markdown",
   "metadata": {},
   "source": [
    "### The environment"
   ]
  },
  {
   "cell_type": "markdown",
   "metadata": {},
   "source": [
    "```Environment``` is an abstract class that represents the states, rewards, and actions to obtain the new state."
   ]
  },
  {
   "cell_type": "code",
   "execution_count": 2,
   "metadata": {
    "collapsed": true
   },
   "outputs": [],
   "source": [
    "class Environment(object):\n",
    "    def __init__(self):\n",
    "        pass\n",
    "\n",
    "    def act(self, act):\n",
    "        \"\"\"\n",
    "        One can act on the environment and obtain its reaction:\n",
    "        - the new state\n",
    "        - the reward of the new state\n",
    "        - should we continue the game?\n",
    "\n",
    "        :return: state, reward, game_over\n",
    "        \"\"\"\n",
    "        pass\n",
    "\n",
    "\n",
    "    def reset(self):\n",
    "        \"\"\"\n",
    "        Reinitialize the environment to a random state and returns\n",
    "        the original state\n",
    "\n",
    "        :return: state\n",
    "        \"\"\"\n",
    "        pass\n",
    "    \n",
    "    def draw(self):\n",
    "        \"\"\"\n",
    "        Visualize in the console or graphically the current state\n",
    "        \"\"\"\n",
    "        pass"
   ]
  },
  {
   "cell_type": "markdown",
   "metadata": {},
   "source": [
    "The method ```act``` allows to act on the environment at a given state $s_t$ (stored internally), via action $a_t$. The method will return the new state $s_{t+1}$, the reward $r(s_{t},a_{t})$ and determines if $t\\leq T$ (*game_over*).\n",
    "\n",
    "The method ```reset``` simply reinitializes the environment to a random state $s_0$.\n",
    "\n",
    "The method ```draw``` displays the current state $s_t$ (this is useful to check the behavior of the Agent).\n",
    "\n",
    "We modelize $s_t$ as a tensor, while $a_t$ is an integer."
   ]
  },
  {
   "cell_type": "markdown",
   "metadata": {},
   "source": [
    "### The Agent"
   ]
  },
  {
   "cell_type": "markdown",
   "metadata": {},
   "source": [
    "The goal of the ```Agent``` is to interact with the ```Environment``` by proposing actions $a_t$ obtained from a given state $s_t$ to attempt to maximize its __reward__ $r(s_t,a_t)$. We propose the following abstract class:"
   ]
  },
  {
   "cell_type": "code",
   "execution_count": 3,
   "metadata": {
    "collapsed": true
   },
   "outputs": [],
   "source": [
    "class Agent(object):\n",
    "    def __init__(self, epsilon=0.1, n_action=4):\n",
    "        self.epsilon = epsilon\n",
    "        self.n_action = n_action\n",
    "    \n",
    "    def set_epsilon(self, e, decay=0):\n",
    "        self.epsilon = e * (1 - decay)\n",
    "\n",
    "    def act(self,s,train=True):\n",
    "        \"\"\" This function should return the next action to do:\n",
    "        an integer between 0 and 4 (not included) with a random exploration of epsilon\"\"\"\n",
    "        if train:\n",
    "            if np.random.rand() <= self.epsilon:\n",
    "                a = np.random.randint(0, self.n_action, size=1)[0]\n",
    "            else:\n",
    "                a = self.learned_act(s)\n",
    "        else: # in some cases, this can improve the performance.. remove it if poor performances\n",
    "            a = self.learned_act(s)\n",
    "\n",
    "        return a\n",
    "\n",
    "    def learned_act(self,s):\n",
    "        \"\"\" Act via the policy of the agent, from a given state s\n",
    "        it proposes an action a\"\"\"\n",
    "        pass\n",
    "\n",
    "    def reinforce(self, s, n_s, a, r, game_over_):\n",
    "        \"\"\" This function is the core of the learning algorithm. \n",
    "        It takes as an input the current state s_, the next state n_s_\n",
    "        the action a_ used to move from s_ to n_s_ and the reward r_.\n",
    "        \n",
    "        Its goal is to learn a policy.\n",
    "        \"\"\"\n",
    "        pass\n",
    "\n",
    "    def save(self):\n",
    "        \"\"\" This function returns basic stats if applicable: the\n",
    "        loss and/or the model\"\"\"\n",
    "        pass\n",
    "\n",
    "    def load(self):\n",
    "        \"\"\" This function allows to restore a model\"\"\"\n",
    "        pass"
   ]
  },
  {
   "cell_type": "markdown",
   "metadata": {},
   "source": [
    "***\n",
    "__Question 1__:\n",
    "Explain the function act. Why is ```epsilon``` essential?"
   ]
  },
  {
   "cell_type": "markdown",
   "metadata": {},
   "source": [
    "> The function act takes as an input a state `s`, and it returns the action to perform. In order to ensure a good balance between exploration and exploitation, the epsilon greedy strategy is used. This strategy chooses a random action with probabily $\\epsilon$, and the optimal learned action with probability $1 - \\epsilon$. This allows the algorithm to explore all the actions in all the states and thus will know which action is the best to choose in which state.\n",
    "\n",
    "> $\\epsilon$ is essential, because without it, the agent might stuck in a suboptimal but local solution depending on his previous seen states."
   ]
  },
  {
   "cell_type": "markdown",
   "metadata": {},
   "source": [
    "***\n",
    "### The Game"
   ]
  },
  {
   "cell_type": "markdown",
   "metadata": {},
   "source": [
    "The ```Agent``` and the ```Environment``` work in an interlaced way as in the following (take some time to understand this code as it is the core of the project)\n",
    "\n",
    "```python\n",
    "\n",
    "epoch = 300\n",
    "env = Environment()\n",
    "agent = Agent()\n",
    "\n",
    "\n",
    "# Number of won games\n",
    "score = 0\n",
    "loss = 0\n",
    "\n",
    "\n",
    "for e in range(epoch):\n",
    "    # At each epoch, we restart to a fresh game and get the initial state\n",
    "    state = env.reset()\n",
    "    # This assumes that the games will end\n",
    "    game_over = False\n",
    "\n",
    "    win = 0\n",
    "    lose = 0\n",
    "    \n",
    "    while not game_over:\n",
    "        # The agent performs an action\n",
    "        action = agent.act(state)\n",
    "\n",
    "        # Apply an action to the environment, get the next state, the reward\n",
    "        # and if the games end\n",
    "        prev_state = state\n",
    "        state, reward, game_over = env.act(action)\n",
    "\n",
    "        # Update the counters\n",
    "        if reward > 0:\n",
    "            win = win + reward\n",
    "        if reward < 0:\n",
    "            lose = lose -reward\n",
    "\n",
    "        # Apply the reinforcement strategy\n",
    "        loss = agent.reinforce(prev_state, state,  action, reward, game_over)\n",
    "\n",
    "    # Save as a mp4\n",
    "    if e % 10 == 0:\n",
    "        env.draw(e)\n",
    "\n",
    "    # Update stats\n",
    "    score += win-lose\n",
    "\n",
    "    print(\"Epoch {:03d}/{:03d} | Loss {:.4f} | Win/lose count {}/{} ({})\"\n",
    "          .format(e, epoch, loss, win, lose, win-lose))\n",
    "    agent.save()\n",
    "```"
   ]
  },
  {
   "cell_type": "markdown",
   "metadata": {},
   "source": [
    "# The game, *eat cheese*"
   ]
  },
  {
   "cell_type": "markdown",
   "metadata": {},
   "source": [
    "A rat runs on an island and tries to eat as much as possible. The island is subdivided into $N\\times N$ cells, in which there are cheese (+0.5) and poisonous cells (-1). The rat has a visibility of 2 cells (thus it can see $5^2$ cells). The rat is given a time $T$ to accumulate as much food as possible. It can perform 4 actions: going up, down, left, right. \n",
    "\n",
    "The goal is to code an agent to solve this task that will learn by trial and error. We propose the following environment:"
   ]
  },
  {
   "cell_type": "code",
   "execution_count": 4,
   "metadata": {
    "collapsed": true
   },
   "outputs": [],
   "source": [
    "class Environment(object):\n",
    "    def __init__(self, grid_size=10, max_time=500, temperature=0.1):\n",
    "        grid_size = grid_size+4\n",
    "        self.grid_size = grid_size\n",
    "        self.max_time = max_time\n",
    "        self.temperature = temperature\n",
    "\n",
    "        #board on which one plays\n",
    "        self.board = np.zeros((grid_size,grid_size))\n",
    "        self.position = np.zeros((grid_size,grid_size))\n",
    "\n",
    "        # coordinate of the cat\n",
    "        self.x = 0\n",
    "        self.y = 1\n",
    "\n",
    "        # self time\n",
    "        self.t = 0\n",
    "\n",
    "        self.scale=16\n",
    "\n",
    "        self.to_draw = np.zeros((max_time+2, grid_size*self.scale, grid_size*self.scale, 3))\n",
    "\n",
    "\n",
    "    def draw(self,e):\n",
    "        skvideo.io.vwrite(str(e) + '.mp4', self.to_draw)\n",
    "\n",
    "    def get_frame(self,t):\n",
    "        b = np.zeros((self.grid_size,self.grid_size,3))+128\n",
    "        b[self.board>0,0] = 256\n",
    "        b[self.board < 0, 2] = 256\n",
    "        b[self.x,self.y,:]=256\n",
    "        b[-2:,:,:]=0\n",
    "        b[:,-2:,:]=0\n",
    "        b[:2,:,:]=0\n",
    "        b[:,:2,:]=0\n",
    "        \n",
    "        b =  cv2.resize(b, None, fx=self.scale, fy=self.scale, interpolation=cv2.INTER_NEAREST)\n",
    "\n",
    "        self.to_draw[t,:,:,:]=b\n",
    "\n",
    "\n",
    "    def act(self, action):\n",
    "        \"\"\"This function returns the new state, reward and decides if the\n",
    "        game ends.\"\"\"\n",
    "\n",
    "        self.get_frame(int(self.t))\n",
    "\n",
    "        self.position = np.zeros((self.grid_size, self.grid_size))\n",
    "\n",
    "        self.position[0:2,:]= -1\n",
    "        self.position[:,0:2] = -1\n",
    "        self.position[-2:, :] = -1\n",
    "        self.position[:, -2:] = -1 # typo\n",
    "\n",
    "        self.position[self.x, self.y] = 1\n",
    "        if action == 0:\n",
    "            if self.x == self.grid_size-3:\n",
    "                self.x = self.x-1\n",
    "            else:\n",
    "                self.x = self.x + 1\n",
    "        elif action == 1:\n",
    "            if self.x == 2:\n",
    "                self.x = self.x+1\n",
    "            else:\n",
    "                self.x = self.x-1\n",
    "        elif action == 2:\n",
    "            if self.y == self.grid_size - 3:\n",
    "                self.y = self.y - 1\n",
    "            else:\n",
    "                self.y = self.y + 1\n",
    "        elif action == 3:\n",
    "            if self.y == 2:\n",
    "                self.y = self.y + 1\n",
    "            else:\n",
    "                self.y = self.y - 1\n",
    "        else:\n",
    "            RuntimeError('Error: action not recognized')\n",
    "\n",
    "        self.t = self.t + 1\n",
    "        reward = self.board[self.x, self.y]\n",
    "        self.board[self.x, self.y] = 0\n",
    "        game_over = self.t > self.max_time\n",
    "        state = np.concatenate((self.board.reshape(self.grid_size, self.grid_size,1),\n",
    "                        self.position.reshape(self.grid_size, self.grid_size,1)),axis=2)\n",
    "        state = state[self.x-2:self.x+3,self.y-2:self.y+3,:]\n",
    "\n",
    "        return state, reward, game_over\n",
    "\n",
    "    def reset(self):\n",
    "        \"\"\"This function resets the game and returns the initial state\"\"\"\n",
    "\n",
    "        self.x = np.random.randint(3, self.grid_size-3, size=1)[0]\n",
    "        self.y = np.random.randint(3, self.grid_size-3, size=1)[0]\n",
    "\n",
    "\n",
    "        bonus = 0.5*np.random.binomial(1,self.temperature,size=self.grid_size**2)\n",
    "        bonus = bonus.reshape(self.grid_size,self.grid_size)\n",
    "\n",
    "        malus = -1.0*np.random.binomial(1,self.temperature,size=self.grid_size**2)\n",
    "        malus = malus.reshape(self.grid_size, self.grid_size)\n",
    "\n",
    "        self.to_draw = np.zeros((self.max_time+2, self.grid_size*self.scale, self.grid_size*self.scale, 3))\n",
    "\n",
    "\n",
    "        malus[bonus>0]=0\n",
    "\n",
    "        self.board = bonus + malus\n",
    "\n",
    "        self.position = np.zeros((self.grid_size, self.grid_size))\n",
    "        self.position[0:2,:]= -1\n",
    "        self.position[:,0:2] = -1\n",
    "        self.position[-2:, :] = -1\n",
    "        self.position[:, -2:] = -1 #typo\n",
    "        self.board[self.x,self.y] = 0\n",
    "        self.t = 0\n",
    "\n",
    "        state = np.concatenate((\n",
    "                               self.board.reshape(self.grid_size, self.grid_size,1),\n",
    "                        self.position.reshape(self.grid_size, self.grid_size,1)),axis=2)\n",
    "\n",
    "        state = state[self.x - 2:self.x + 3, self.y - 2:self.y + 3, :]\n",
    "        return state"
   ]
  },
  {
   "cell_type": "markdown",
   "metadata": {},
   "source": [
    "The following elements are important because they correspond to the hyper parameters for this project:"
   ]
  },
  {
   "cell_type": "code",
   "execution_count": 5,
   "metadata": {},
   "outputs": [],
   "source": [
    "# parameters\n",
    "size = 13\n",
    "T=200\n",
    "temperature=0.3\n",
    "epochs_train= 50 # set small when debugging\n",
    "epochs_test= 20 # set small when debugging\n",
    "\n",
    "# display videos\n",
    "def display_videos(name):\n",
    "    video = io.open(name, 'r+b').read()\n",
    "    encoded = base64.b64encode(video)\n",
    "    return '''<video alt=\"test\" controls>\n",
    "                <source src=\"data:video/mp4;base64,{0}\" type=\"video/mp4\" />\n",
    "             </video>'''.format(encoded.decode('ascii'))"
   ]
  },
  {
   "cell_type": "markdown",
   "metadata": {},
   "source": [
    "__Question 2__ Explain the use of the arrays ```position``` and ```board```."
   ]
  },
  {
   "cell_type": "markdown",
   "metadata": {},
   "source": [
    "> Position is an array indicating the explorabale environnement of the rat, it has 0 where the rat can go, -1 where it can't go, and 1 indicating the position of the rat.\n",
    "\n",
    "> Board is an array indicating the reward (bonus or malus) that the rat will get if he goes to a certain position. Bonuses and maluses are drown from a binomial distribution with a probability = temperature."
   ]
  },
  {
   "cell_type": "markdown",
   "metadata": {},
   "source": [
    "## Random Agent"
   ]
  },
  {
   "cell_type": "markdown",
   "metadata": {},
   "source": [
    "***\n",
    "__Question 3__ Implement a random Agent (only ```learned_act``` needs to be implemented):"
   ]
  },
  {
   "cell_type": "code",
   "execution_count": 6,
   "metadata": {
    "collapsed": true
   },
   "outputs": [],
   "source": [
    "class RandomAgent(Agent):\n",
    "    def __init__(self):\n",
    "        super(RandomAgent, self).__init__()\n",
    "        pass\n",
    "\n",
    "    def learned_act(self, s):\n",
    "        return np.random.randint(0, self.n_action, size=1)[0] "
   ]
  },
  {
   "cell_type": "markdown",
   "metadata": {},
   "source": [
    "***\n",
    "***\n",
    "__Question 4__ Visualize the game moves. You need to fill in the following function for the evaluation:"
   ]
  },
  {
   "cell_type": "code",
   "execution_count": 7,
   "metadata": {
    "collapsed": true
   },
   "outputs": [],
   "source": [
    "def test(agent,env,epochs,prefix=''):\n",
    "    # Number of won games\n",
    "    score = 0\n",
    "        \n",
    "    for e in range(epochs):\n",
    "        \n",
    "        state = env.reset()\n",
    "        # This assumes that the games will end\n",
    "        game_over = False\n",
    "\n",
    "        win = 0\n",
    "        lose = 0\n",
    "\n",
    "        while not game_over:\n",
    "            # The agent performs an action\n",
    "            action = agent.act(state)\n",
    "\n",
    "            # Apply an action to the environment, get the next state, the reward\n",
    "            prev_state = state\n",
    "            state, reward, game_over = env.act(action)\n",
    "\n",
    "            # Update the counters\n",
    "            if reward > 0:\n",
    "                win += reward\n",
    "            if reward < 0:\n",
    "                lose -= reward\n",
    "        \n",
    "        # Save as a mp4\n",
    "        env.draw(prefix + str(e))\n",
    "\n",
    "        # Update stats\n",
    "        score = score + win - lose\n",
    "\n",
    "        print(\"Win/lose count {}/{}. Average score ({})\"\n",
    "              .format(win, lose, score/(1+e)))\n",
    "    print('Final score: '+str(score/epochs))"
   ]
  },
  {
   "cell_type": "code",
   "execution_count": 16,
   "metadata": {},
   "outputs": [
    {
     "name": "stdout",
     "output_type": "stream",
     "text": [
      "Win/lose count 8.0/15.0. Average score (-7.0)\n",
      "Win/lose count 12.0/16.0. Average score (-5.5)\n",
      "Final score: -5.5\n"
     ]
    },
    {
     "data": {
      "text/html": [
       "<video alt=\"test\" controls>\n",
       "                <source src=\"data:video/mp4;base64,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\" type=\"video/mp4\" />\n",
       "             </video>"
      ],
      "text/plain": [
       "<IPython.core.display.HTML object>"
      ]
     },
     "execution_count": 16,
     "metadata": {},
     "output_type": "execute_result"
    }
   ],
   "source": [
    "# Initialize the game\n",
    "env = Environment(grid_size=size, max_time=T,temperature=temperature)\n",
    "\n",
    "# Initialize the agent!\n",
    "agent = RandomAgent()\n",
    "\n",
    "test(agent,env,epochs_test,prefix='random')\n",
    "HTML(display_videos('random0.mp4'))"
   ]
  },
  {
   "cell_type": "markdown",
   "metadata": {},
   "source": [
    "***\n",
    "## DQN"
   ]
  },
  {
   "cell_type": "markdown",
   "metadata": {},
   "source": [
    "Let us assume here that $T=\\infty$.\n",
    "\n",
    "***\n",
    "__Question 5__ Let $\\pi$ be a policy, show that:\n",
    "\n",
    "\\begin{equation*}\n",
    "Q^{\\pi}(s,a)=E_{(s',a')\\sim p(.|s,a)}[r(s,a)+\\gamma Q^{\\pi}(s',a')]\n",
    "\\end{equation*}\n",
    "\n",
    "Then, show that for the optimal policy $\\pi^*$ (we assume its existence), the following holds: \n",
    "\n",
    "\\begin{equation*}\n",
    "Q^{*}(s,a)=E_{s'\\sim \\pi^*(.|s,a)}[r(s,a)+\\gamma\\max_{a'}Q^{*}(s',a')].\n",
    "\\end{equation*}\n",
    "Finally, deduce that a plausible objective is:\n",
    "\n",
    "\\begin{equation*}\n",
    "\\mathcal{L}(\\theta)=E_{s' \\sim \\pi^*(.|s,a)}\\Vert r+\\gamma\\max\\max_{a'}Q(s',a',\\theta)-Q(s,a,\\theta)\\Vert^{2}.\n",
    "\\end{equation*}\n",
    "\n",
    "\n"
   ]
  },
  {
   "cell_type": "markdown",
   "metadata": {},
   "source": [
    "__Answer__\n",
    "\n",
    "\n",
    " __1)__ Let $\\pi$ a policy, we have:\n",
    "\n",
    "\\begin{align*}\n",
    "Q^{\\pi}(s,a)& =E[ \\sum_{k=0}^{\\infty} \\gamma^k r_{t+k}|s_t = s, a_t = a] \\\\\n",
    "& = E[ r_t(s,a) + \\sum_{k=1}^{\\infty} \\gamma^k r_{t+k}|s_t = s, a_t = a] \\\\\n",
    "& = r_t(s,a) + \\gamma E[ \\sum_{k=0}^{\\infty} \\gamma^k r_{t+k+1}|s_{t} = s, a_{t} = a] \\\\\n",
    "& =  r_t(s,a) + \\gamma E[E[\\sum_{k=0}^{\\infty}[\\gamma^k r_{t+1+k}|s_{t+1}=s',a_{t+1}=a']|s_t = s, a_t = a] \\text{ by conditioning on }(s_{t+1}=s',a_{t+1}=a')\\\\\n",
    "& =  r_t(s,a) + \\gamma \\sum_{(s',a')}(p(s_{t+1}=s',a_{t+1}=a' |s_t = s, a_t = a )[E[\\sum_{k=0}^{\\infty}\\gamma^k r_{t+1+k}|s_{t+1}=s',a_{t+1}=a']\\\\\n",
    "& =  \\sum_{(s',a')} (p(s_{t+1}=s',a_{t+1}=a' |s_t = s, a_t = a ) r_t(s,a) + \\gamma \\sum_{(s',a')}(p(s_{t+1}=s',a_{t+1}=a' |s_t = s, a_t = a )E[\\sum_{k=0}^{\\infty}\\gamma^k r_{t+1+k}|s_{t+1}=s',a_{t+1}=a']\\\\\n",
    "&=E_{(s',a')\\sim p(.|s,a)}[r(s,a)+\\gamma Q^{\\pi}(s',a')]\n",
    "\\end{align*}\n",
    "\n",
    "__2)__ We have\n",
    "\n",
    "\\begin{align*}\n",
    "\\max_\\pi Q^{\\pi}(s,a)&=\\max_\\pi E_{(s',a')\\sim p(.|s,a)}[r(s,a)+\\gamma Q^{\\pi}(s',a')]\\\\\n",
    "&=\\max_\\pi \\sum_{s', a'} \\pi(a'|s) p(s'|s,a)[r(s,a)+\\gamma Q^{\\pi}(s',a')]\\\\\n",
    "&=\\sum_{s', a'} \\pi^*(a'|s) p(s'|s,a)[r(s,a)+\\gamma Q^{*}(s',a')] \\text{ ( $\\pi^*$ is stable by bellman operator )}\\\\\n",
    "&=\\sum_{s'} p(s'|s,a)[r(s,a)+\\gamma \\max_a' Q^{*}(s',a')]\\\\\n",
    "&=E_{s'\\sim p(s'|s,a)}[r(s,a)+\\gamma\\max_{a'}Q^{*}(s',a')].\n",
    "\\end{align*}\n",
    "\n",
    "__3)__ We want to approximate $Q^{\\pi}$ using a function approximator $Q(s, a; \\theta) \\approx Q^{*}(s,a)$, where $\\theta$ is a parameter . A typical function approximator is neural networks, and in order to determine the parameters of the network, we need a loss function. The latter can be written in the form: $L_i(\\theta_i) = E_{s' \\sim \\pi^*(.|s,a)}[(y_i - Q(s, a; \\theta_i))^2]$. The target value $y_i$ must be choosen in a way that mimic the behavior of the standard Q-learning update rule, i.e. $y_i = r(s,a)+\\gamma \\max_{a'} Q(s',a'; \\theta_{i-1})$. By doing so, we ensure that, at each iteration, our  $y_i$  roughly converges towards the optimal Q-value function."
   ]
  },
  {
   "cell_type": "markdown",
   "metadata": {},
   "source": [
    "***\n",
    "The DQN-learning algorithm relies on these derivations to train the parameters $\\theta$ of a Deep Neural Network:\n",
    "\n",
    "1. At the state $s_t$, select the action $a_t$ with best reward using $Q_t$ and store the results;\n",
    "\n",
    "2. Obtain the new state $s_{t+1}$ from the environment $p$;\n",
    "\n",
    "3. Store $(s_t,a_t,s_{t+1})$;\n",
    "\n",
    "4. Obtain $Q_{t+1}$ by minimizing  $\\mathcal{L}$ from a recovered batch from the previously stored results.\n",
    "\n",
    "***\n",
    "__Question 6__ Implement the class ```Memory``` that stores moves (in a replay buffer) via ```remember``` and provides a ```random_access``` to these. Specify a maximum memory size to avoid side effects. You can for example use a ```list()``` and set by default ```max_memory=100```."
   ]
  },
  {
   "cell_type": "code",
   "execution_count": 8,
   "metadata": {
    "collapsed": true
   },
   "outputs": [],
   "source": [
    "from collections import deque\n",
    "\n",
    "class Memory(object):\n",
    "    def __init__(self, max_memory=100):\n",
    "        self.max_memory = max_memory\n",
    "        # deque is a list FIFO with a fixed max length\n",
    "        self.memory = deque(maxlen=max_memory)\n",
    "\n",
    "    def remember(self, m):\n",
    "        self.memory.append(m)\n",
    "\n",
    "    def random_access(self):\n",
    "        return self.memory[np.random.randint(0, len(self.memory), size=1)[0]]"
   ]
  },
  {
   "cell_type": "markdown",
   "metadata": {},
   "source": [
    "***\n",
    "The pipeline we will use for training is given below:"
   ]
  },
  {
   "cell_type": "code",
   "execution_count": 9,
   "metadata": {
    "collapsed": true
   },
   "outputs": [],
   "source": [
    "def train(agent,env,epoch,prefix=''):\n",
    "    # Number of won games\n",
    "    score = 0\n",
    "    loss = 0\n",
    "\n",
    "    for e in range(epoch):\n",
    "        # At each epoch, we restart to a fresh game and get the initial state\n",
    "        state = env.reset()\n",
    "        # This assumes that the games will terminate\n",
    "        game_over = False\n",
    "\n",
    "        win = 0\n",
    "        lose = 0\n",
    "\n",
    "        while not game_over:\n",
    "            # The agent performs an action\n",
    "            action = agent.act(state)\n",
    "\n",
    "            # Apply an action to the environment, get the next state, the reward\n",
    "            # and if the games end\n",
    "            prev_state = state\n",
    "            state, reward, game_over = env.act(action)\n",
    "\n",
    "            # Update the counters\n",
    "            if reward > 0:\n",
    "                win = win + reward\n",
    "            if reward < 0:\n",
    "                lose = lose -reward\n",
    "\n",
    "            # Apply the reinforcement strategy\n",
    "            loss = agent.reinforce(prev_state, state,  action, reward, game_over)\n",
    "\n",
    "        # Save as a mp4\n",
    "        if e % 10 == 0:\n",
    "            env.draw(prefix+str(e))\n",
    "\n",
    "        # Update stats\n",
    "        score += win-lose\n",
    "\n",
    "        print(\"Epoch {:03d}/{:03d} | Loss {:.4f} | Win/lose count {}/{} ({})\"\n",
    "              .format(e, epoch, loss, win, lose, win-lose))\n",
    "        agent.save(name_weights=prefix+'model.h5',name_model=prefix+'model.json')"
   ]
  },
  {
   "cell_type": "markdown",
   "metadata": {},
   "source": [
    "***\n",
    "__Question 7__ Implement the DQN training algorithm using a cascade of fully connected layers. You can use different learning rate, batch size or memory size parameters. In particular, the loss might oscillate while the player will start to win the games. You have to find a good criterium."
   ]
  },
  {
   "cell_type": "code",
   "execution_count": 72,
   "metadata": {
    "collapsed": true
   },
   "outputs": [],
   "source": [
    "class DQN(Agent):\n",
    "    def __init__(self, grid_size,  epsilon = 0.1, memory_size=100, batch_size = 16,n_state=2):\n",
    "        super(DQN, self).__init__(epsilon = epsilon)\n",
    "\n",
    "        # Discount for Q learning\n",
    "        self.discount = 0.99\n",
    "        \n",
    "        self.grid_size = grid_size\n",
    "        \n",
    "        # number of state\n",
    "        self.n_state = n_state\n",
    "\n",
    "        # Memory\n",
    "        self.memory = Memory(memory_size)\n",
    "        \n",
    "        # Batch size when learning\n",
    "        self.batch_size = batch_size\n",
    "\n",
    "    def learned_act(self, s):\n",
    "        return np.argmax(self.model.predict(s.reshape([1,s.shape[0],s.shape[1],s.shape[2]]))[0,:])\n",
    "\n",
    "    def reinforce(self, s_, n_s_, a_, r_, game_over_):\n",
    "        # Two steps: first memorize the states, second learn from the pool\n",
    "\n",
    "        self.memory.remember([s_, n_s_, a_, r_, game_over_])\n",
    "        \n",
    "        input_states = np.zeros((self.batch_size, 5,5,self.n_state))\n",
    "        target_q = np.zeros((self.batch_size, 4))\n",
    "        \n",
    "        for i in range(self.batch_size):\n",
    "            s_, n_s_, a_, r_, game_over_  = self.memory.random_access()\n",
    "            \n",
    "            input_states[i] = s_\n",
    "            target_q[i] =self.model.predict(s_.reshape([1, s_.shape[0], s_.shape[1], s_.shape[2]]))[0]\n",
    "            \n",
    "            # setting the target values depending on if the state is terminal or not(cf DQN Algorithm)\n",
    "            if game_over_:\n",
    "                target_q[i,a_] = r_\n",
    "            else:\n",
    "                target_q[i,a_] = r_  + self.discount * max(self.model.predict(n_s_.reshape([1, s_.shape[0], s_.shape[1], s_.shape[2]]))[0])\n",
    "\n",
    "        # HINT: Clip the target to avoid exploiding gradients.. -- clipping is a bit tighter\n",
    "        target_q = np.clip(target_q, -3, 3)\n",
    "\n",
    "        l = self.model.train_on_batch(input_states, target_q)\n",
    "\n",
    "\n",
    "        return l\n",
    "\n",
    "    def save(self,name_weights='model.h5',name_model='model.json'):\n",
    "        self.model.save_weights(name_weights, overwrite=True)\n",
    "        with open(name_model, \"w\") as outfile:\n",
    "            json.dump(self.model.to_json(), outfile)\n",
    "            \n",
    "    def load(self,name_weights='model.h5',name_model='model.json'):\n",
    "        with open(name_model, \"r\") as jfile:\n",
    "            model = model_from_json(json.load(jfile))\n",
    "        model.load_weights(name_weights)\n",
    "        model.compile(\"sgd\", \"mse\")\n",
    "        self.model = model\n",
    "\n",
    "            \n",
    "class DQN_FC(DQN):\n",
    "    def __init__(self, *args, lr=0.1,**kwargs):\n",
    "        super(DQN_FC, self).__init__( *args,**kwargs)\n",
    "        \n",
    "        # NN Model\n",
    "        model = Sequential()\n",
    "        model.add(Dense(20, input_shape=(5, 5, self.n_state), activation='relu'))\n",
    "        model.add(Flatten())\n",
    "        model.add(Dense(30, activation ='relu'))\n",
    "        model.add(Dense(4))\n",
    "        \n",
    "        model.compile(sgd(lr=lr, decay=1e-4, momentum=0.0), \"mse\")\n",
    "        self.model = model\n",
    "        "
   ]
  },
  {
   "cell_type": "code",
   "execution_count": 68,
   "metadata": {
    "collapsed": true
   },
   "outputs": [
    {
     "name": "stdout",
     "output_type": "stream",
     "text": [
      "Epoch 000/050 | Loss 0.0276 | Win/lose count 10.5/15.0 (-4.5)\n",
      "Epoch 001/050 | Loss 0.0115 | Win/lose count 4.0/4.0 (0.0)\n",
      "Epoch 002/050 | Loss 0.0051 | Win/lose count 10.0/5.0 (5.0)\n",
      "Epoch 003/050 | Loss 0.0021 | Win/lose count 2.5/1.0 (1.5)\n",
      "Epoch 004/050 | Loss 0.0033 | Win/lose count 5.0/3.0 (2.0)\n",
      "Epoch 005/050 | Loss 0.0020 | Win/lose count 7.5/2.0 (5.5)\n",
      "Epoch 006/050 | Loss 0.0578 | Win/lose count 8.5/4.0 (4.5)\n",
      "Epoch 007/050 | Loss 0.0054 | Win/lose count 11.0/2.0 (9.0)\n",
      "Epoch 008/050 | Loss 0.0054 | Win/lose count 15.0/6.0 (9.0)\n",
      "Epoch 009/050 | Loss 0.0027 | Win/lose count 13.5/5.0 (8.5)\n",
      "Epoch 010/050 | Loss 0.0037 | Win/lose count 5.5/3.0 (2.5)\n",
      "Epoch 011/050 | Loss 0.0035 | Win/lose count 5.0/2.0 (3.0)\n",
      "Epoch 012/050 | Loss 0.0507 | Win/lose count 12.0/3.0 (9.0)\n",
      "Epoch 013/050 | Loss 0.0020 | Win/lose count 8.0/2.0 (6.0)\n",
      "Epoch 014/050 | Loss 0.0013 | Win/lose count 15.0/4.0 (11.0)\n",
      "Epoch 015/050 | Loss 0.0046 | Win/lose count 10.5/0 (10.5)\n",
      "Epoch 016/050 | Loss 0.0030 | Win/lose count 9.5/1.0 (8.5)\n",
      "Epoch 017/050 | Loss 0.0035 | Win/lose count 15.5/2.0 (13.5)\n",
      "Epoch 018/050 | Loss 0.0045 | Win/lose count 5.5/2.0 (3.5)\n",
      "Epoch 019/050 | Loss 0.0034 | Win/lose count 9.0/1.0 (8.0)\n",
      "Epoch 020/050 | Loss 0.0045 | Win/lose count 8.5/2.0 (6.5)\n",
      "Epoch 021/050 | Loss 0.0017 | Win/lose count 12.5/2.0 (10.5)\n",
      "Epoch 022/050 | Loss 0.0034 | Win/lose count 14.0/7.0 (7.0)\n",
      "Epoch 023/050 | Loss 0.0540 | Win/lose count 18.0/0 (18.0)\n",
      "Epoch 024/050 | Loss 0.0015 | Win/lose count 14.0/0 (14.0)\n",
      "Epoch 025/050 | Loss 0.0023 | Win/lose count 13.0/0 (13.0)\n",
      "Epoch 026/050 | Loss 0.0019 | Win/lose count 16.5/4.0 (12.5)\n",
      "Epoch 027/050 | Loss 0.0025 | Win/lose count 13.0/1.0 (12.0)\n",
      "Epoch 028/050 | Loss 0.0028 | Win/lose count 5.5/3.0 (2.5)\n",
      "Epoch 029/050 | Loss 0.0550 | Win/lose count 18.0/1.0 (17.0)\n",
      "Epoch 030/050 | Loss 0.0526 | Win/lose count 8.5/6.0 (2.5)\n",
      "Epoch 031/050 | Loss 0.0023 | Win/lose count 6.0/5.0 (1.0)\n",
      "Epoch 032/050 | Loss 0.0011 | Win/lose count 10.0/3.0 (7.0)\n",
      "Epoch 033/050 | Loss 0.0035 | Win/lose count 17.5/3.0 (14.5)\n",
      "Epoch 034/050 | Loss 0.0020 | Win/lose count 5.0/2.0 (3.0)\n",
      "Epoch 035/050 | Loss 0.0024 | Win/lose count 8.5/2.0 (6.5)\n",
      "Epoch 036/050 | Loss 0.0031 | Win/lose count 15.5/3.0 (12.5)\n",
      "Epoch 037/050 | Loss 0.0013 | Win/lose count 7.5/0 (7.5)\n",
      "Epoch 038/050 | Loss 0.0012 | Win/lose count 11.0/3.0 (8.0)\n",
      "Epoch 039/050 | Loss 0.0641 | Win/lose count 15.0/1.0 (14.0)\n",
      "Epoch 040/050 | Loss 0.0014 | Win/lose count 8.5/3.0 (5.5)\n",
      "Epoch 041/050 | Loss 0.0021 | Win/lose count 12.5/3.0 (9.5)\n",
      "Epoch 042/050 | Loss 0.0024 | Win/lose count 24.0/6.0 (18.0)\n",
      "Epoch 043/050 | Loss 0.0395 | Win/lose count 4.0/1.0 (3.0)\n",
      "Epoch 044/050 | Loss 0.0031 | Win/lose count 18.5/4.0 (14.5)\n",
      "Epoch 045/050 | Loss 0.0015 | Win/lose count 21.0/1.0 (20.0)\n",
      "Epoch 046/050 | Loss 0.0014 | Win/lose count 14.0/1.0 (13.0)\n",
      "Epoch 047/050 | Loss 0.0007 | Win/lose count 11.0/0 (11.0)\n",
      "Epoch 048/050 | Loss 0.0026 | Win/lose count 16.5/2.0 (14.5)\n",
      "Epoch 049/050 | Loss 0.0499 | Win/lose count 2.5/2.0 (0.5)\n"
     ]
    },
    {
     "data": {
      "text/html": [
       "<video alt=\"test\" controls>\n",
       "                <source src=\"data:video/mp4;base64,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\" type=\"video/mp4\" />\n",
       "             </video>"
      ],
      "text/plain": [
       "<IPython.core.display.HTML object>"
      ]
     },
     "execution_count": 68,
     "metadata": {},
     "output_type": "execute_result"
    }
   ],
   "source": [
    "env = Environment(grid_size=size, max_time=T, temperature=0.3)\n",
    "agent = DQN_FC(size, lr=.1, epsilon = 0.1, memory_size=2000, batch_size = 32)\n",
    "train(agent, env, epochs_train, prefix='fc_train')\n",
    "HTML(display_videos('fc_train10.mp4'))"
   ]
  },
  {
   "cell_type": "markdown",
   "metadata": {},
   "source": [
    "***\n",
    "***\n",
    "__Question 8__ Implement the DQN training algorithm using a CNN (for example, 2 convolutional layers and one final fully connected layer)."
   ]
  },
  {
   "cell_type": "code",
   "execution_count": 75,
   "metadata": {
    "collapsed": true
   },
   "outputs": [],
   "source": [
    "class DQN_CNN(DQN):\n",
    "    def __init__(self, *args,lr=0.1,**kwargs):\n",
    "        super(DQN_CNN, self).__init__(*args,**kwargs)\n",
    "        \n",
    "        # Inspired from DQN architecture\n",
    "        model = Sequential()\n",
    "        model.add(Conv2D(16, (3, 3), input_shape=(5,5,self.n_state,), activation='relu'))\n",
    "        model.add(Conv2D(32, (3, 3), activation='relu'))\n",
    "        model.add(Flatten())\n",
    "        model.add(Dense(100, activation='relu'))\n",
    "        model.add(Dense(4))\n",
    "        \n",
    "        #model.compile(sgd(lr=lr, decay=1e-4, momentum=0.0), \"mse\")\n",
    "        model.compile(\"adam\", \"mse\")\n",
    "        self.model = model"
   ]
  },
  {
   "cell_type": "code",
   "execution_count": 48,
   "metadata": {
    "collapsed": true
   },
   "outputs": [
    {
     "name": "stdout",
     "output_type": "stream",
     "text": [
      "Epoch 000/050 | Loss 0.0089 | Win/lose count 5.0/5.0 (0.0)\n",
      "Epoch 001/050 | Loss 0.0586 | Win/lose count 1.5/2.0 (-0.5)\n",
      "Epoch 002/050 | Loss 0.0005 | Win/lose count 1.0/2.0 (-1.0)\n",
      "Epoch 003/050 | Loss 0.0017 | Win/lose count 2.5/3.0 (-0.5)\n",
      "Epoch 004/050 | Loss 0.0012 | Win/lose count 3.5/3.0 (0.5)\n",
      "Epoch 005/050 | Loss 0.0019 | Win/lose count 4.5/1.0 (3.5)\n",
      "Epoch 006/050 | Loss 0.0034 | Win/lose count 5.5/4.0 (1.5)\n",
      "Epoch 007/050 | Loss 0.0023 | Win/lose count 5.5/6.0 (-0.5)\n",
      "Epoch 008/050 | Loss 0.0367 | Win/lose count 3.0/5.0 (-2.0)\n",
      "Epoch 009/050 | Loss 0.0043 | Win/lose count 1.0/1.0 (0.0)\n",
      "Epoch 010/050 | Loss 0.0023 | Win/lose count 3.0/1.0 (2.0)\n",
      "Epoch 011/050 | Loss 0.0422 | Win/lose count 5.5/0 (5.5)\n",
      "Epoch 012/050 | Loss 0.0009 | Win/lose count 2.0/0 (2.0)\n",
      "Epoch 013/050 | Loss 0.0023 | Win/lose count 5.5/2.0 (3.5)\n",
      "Epoch 014/050 | Loss 0.0016 | Win/lose count 8.0/1.0 (7.0)\n",
      "Epoch 015/050 | Loss 0.0015 | Win/lose count 8.5/1.0 (7.5)\n",
      "Epoch 016/050 | Loss 0.0014 | Win/lose count 5.0/4.0 (1.0)\n",
      "Epoch 017/050 | Loss 0.0018 | Win/lose count 7.5/1.0 (6.5)\n",
      "Epoch 018/050 | Loss 0.0564 | Win/lose count 12.0/2.0 (10.0)\n",
      "Epoch 019/050 | Loss 0.0015 | Win/lose count 7.5/2.0 (5.5)\n",
      "Epoch 020/050 | Loss 0.0011 | Win/lose count 5.5/3.0 (2.5)\n",
      "Epoch 021/050 | Loss 0.0014 | Win/lose count 12.0/4.0 (8.0)\n",
      "Epoch 022/050 | Loss 0.0516 | Win/lose count 5.5/2.0 (3.5)\n",
      "Epoch 023/050 | Loss 0.0015 | Win/lose count 14.0/3.0 (11.0)\n",
      "Epoch 024/050 | Loss 0.0020 | Win/lose count 11.5/0 (11.5)\n",
      "Epoch 025/050 | Loss 0.0058 | Win/lose count 18.5/4.0 (14.5)\n",
      "Epoch 026/050 | Loss 0.0069 | Win/lose count 11.5/0 (11.5)\n",
      "Epoch 027/050 | Loss 0.0042 | Win/lose count 16.0/1.0 (15.0)\n",
      "Epoch 028/050 | Loss 0.0033 | Win/lose count 8.0/2.0 (6.0)\n",
      "Epoch 029/050 | Loss 0.0075 | Win/lose count 18.0/1.0 (17.0)\n",
      "Epoch 030/050 | Loss 0.0022 | Win/lose count 11.0/3.0 (8.0)\n",
      "Epoch 031/050 | Loss 0.0054 | Win/lose count 24.0/4.0 (20.0)\n",
      "Epoch 032/050 | Loss 0.0026 | Win/lose count 20.5/2.0 (18.5)\n",
      "Epoch 033/050 | Loss 0.0450 | Win/lose count 12.5/3.0 (9.5)\n",
      "Epoch 034/050 | Loss 0.0032 | Win/lose count 6.0/0 (6.0)\n",
      "Epoch 035/050 | Loss 0.0035 | Win/lose count 8.5/3.0 (5.5)\n",
      "Epoch 036/050 | Loss 0.0012 | Win/lose count 20.5/5.0 (15.5)\n",
      "Epoch 037/050 | Loss 0.0378 | Win/lose count 12.0/2.0 (10.0)\n",
      "Epoch 038/050 | Loss 0.0026 | Win/lose count 23.0/2.0 (21.0)\n",
      "Epoch 039/050 | Loss 0.0058 | Win/lose count 14.5/5.0 (9.5)\n",
      "Epoch 040/050 | Loss 0.0016 | Win/lose count 14.5/0 (14.5)\n",
      "Epoch 041/050 | Loss 0.0015 | Win/lose count 15.0/2.0 (13.0)\n",
      "Epoch 042/050 | Loss 0.0036 | Win/lose count 22.5/3.0 (19.5)\n",
      "Epoch 043/050 | Loss 0.0039 | Win/lose count 8.0/2.0 (6.0)\n",
      "Epoch 044/050 | Loss 0.0015 | Win/lose count 5.0/1.0 (4.0)\n",
      "Epoch 045/050 | Loss 0.0020 | Win/lose count 15.5/1.0 (14.5)\n",
      "Epoch 046/050 | Loss 0.0020 | Win/lose count 4.5/2.0 (2.5)\n",
      "Epoch 047/050 | Loss 0.0019 | Win/lose count 11.5/1.0 (10.5)\n",
      "Epoch 048/050 | Loss 0.0030 | Win/lose count 11.5/3.0 (8.5)\n",
      "Epoch 049/050 | Loss 0.0021 | Win/lose count 17.0/2.0 (15.0)\n"
     ]
    },
    {
     "data": {
      "text/html": [
       "<video alt=\"test\" controls>\n",
       "                <source src=\"data:video/mp4;base64,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\" type=\"video/mp4\" />\n",
       "             </video>"
      ],
      "text/plain": [
       "<IPython.core.display.HTML object>"
      ]
     },
     "execution_count": 48,
     "metadata": {},
     "output_type": "execute_result"
    }
   ],
   "source": [
    "env = Environment(grid_size=size, max_time=T, temperature=0.3)\n",
    "agent = DQN_CNN(size, lr=.1, epsilon = 0.1, memory_size=2000, batch_size = 32)\n",
    "train(agent,env,50,prefix='cnn_train')\n",
    "HTML(display_videos('cnn_train10.mp4'))"
   ]
  },
  {
   "cell_type": "markdown",
   "metadata": {},
   "source": [
    "***\n",
    "***\n",
    "__Question 9__ Test both algorithms and compare their performances. Which issue(s) do you observe? Observe also different behaviors by changing the temperature."
   ]
  },
  {
   "cell_type": "code",
   "execution_count": 76,
   "metadata": {
    "collapsed": true
   },
   "outputs": [
    {
     "name": "stdout",
     "output_type": "stream",
     "text": [
      "Test of the CNN\n",
      "Win/lose count 7.5/3.0. Average score (4.5)\n",
      "Win/lose count 13.5/1.0. Average score (8.5)\n",
      "Win/lose count 2.0/2.0. Average score (5.666666666666667)\n",
      "Win/lose count 13.0/2.0. Average score (7.0)\n",
      "Win/lose count 21.0/5.0. Average score (8.8)\n",
      "Win/lose count 3.0/1.0. Average score (7.666666666666667)\n",
      "Win/lose count 16.5/3.0. Average score (8.5)\n",
      "Win/lose count 14.0/3.0. Average score (8.8125)\n",
      "Win/lose count 15.5/3.0. Average score (9.222222222222221)\n",
      "Win/lose count 10.0/2.0. Average score (9.1)\n",
      "Win/lose count 12.5/1.0. Average score (9.318181818181818)\n",
      "Win/lose count 17.0/1.0. Average score (9.875)\n",
      "Win/lose count 9.5/2.0. Average score (9.692307692307692)\n",
      "Win/lose count 5.5/4.0. Average score (9.107142857142858)\n",
      "Win/lose count 10.0/3.0. Average score (8.966666666666667)\n",
      "Win/lose count 6.5/0. Average score (8.8125)\n",
      "Win/lose count 14.0/4.0. Average score (8.882352941176471)\n",
      "Win/lose count 21.0/4.0. Average score (9.333333333333334)\n",
      "Win/lose count 19.0/3.0. Average score (9.68421052631579)\n",
      "Win/lose count 24.0/2.0. Average score (10.3)\n",
      "Final score: 10.3\n",
      "Test of the FC\n",
      "Win/lose count 4.5/2.0. Average score (2.5)\n",
      "Win/lose count 9.5/2.0. Average score (5.0)\n",
      "Win/lose count 10.5/1.0. Average score (6.5)\n",
      "Win/lose count 10.5/3.0. Average score (6.75)\n",
      "Win/lose count 7.5/1.0. Average score (6.7)\n",
      "Win/lose count 10.5/5.0. Average score (6.5)\n",
      "Win/lose count 8.0/1.0. Average score (6.571428571428571)\n",
      "Win/lose count 7.5/1.0. Average score (6.5625)\n",
      "Win/lose count 8.0/4.0. Average score (6.277777777777778)\n",
      "Win/lose count 12.5/4.0. Average score (6.5)\n",
      "Win/lose count 4.5/2.0. Average score (6.136363636363637)\n",
      "Win/lose count 5.0/1.0. Average score (5.958333333333333)\n",
      "Win/lose count 8.5/3.0. Average score (5.923076923076923)\n",
      "Win/lose count 4.0/2.0. Average score (5.642857142857143)\n",
      "Win/lose count 3.5/1.0. Average score (5.433333333333334)\n",
      "Win/lose count 16.5/1.0. Average score (6.0625)\n",
      "Win/lose count 9.0/3.0. Average score (6.0588235294117645)\n",
      "Win/lose count 3.5/1.0. Average score (5.861111111111111)\n",
      "Win/lose count 5.0/2.0. Average score (5.7105263157894735)\n",
      "Win/lose count 13.5/1.0. Average score (6.05)\n",
      "Final score: 6.05\n"
     ]
    }
   ],
   "source": [
    "env = Environment(grid_size=size, max_time=T,temperature=0.3)\n",
    "agent_cnn = DQN_CNN(size, lr=.1, epsilon = 0.1, memory_size=2000, batch_size = 32)\n",
    "agent_cnn.load(name_weights='cnn_trainmodel.h5',name_model='cnn_trainmodel.json')\n",
    "\n",
    "agent_fc = DQN_FC(size, lr=.1, epsilon = 0.1, memory_size=2000, batch_size = 32)\n",
    "agent_fc.load(name_weights='fc_trainmodel.h5',name_model='fc_trainmodel.json')\n",
    "print('Test of the CNN')\n",
    "test(agent_cnn,env,epochs_test,prefix='cnn_test')\n",
    "print('Test of the FC')\n",
    "test(agent_fc,env,epochs_test,prefix='fc_test')"
   ]
  },
  {
   "cell_type": "code",
   "execution_count": 30,
   "metadata": {
    "collapsed": true
   },
   "outputs": [
    {
     "data": {
      "text/html": [
       "<video alt=\"test\" controls>\n",
       "                <source src=\"data:video/mp4;base64,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\" type=\"video/mp4\" />\n",
       "             </video>"
      ],
      "text/plain": [
       "<IPython.core.display.HTML object>"
      ]
     },
     "execution_count": 30,
     "metadata": {},
     "output_type": "execute_result"
    }
   ],
   "source": [
    "HTML(display_videos('cnn_test10.mp4'))"
   ]
  },
  {
   "cell_type": "code",
   "execution_count": 31,
   "metadata": {
    "collapsed": true
   },
   "outputs": [
    {
     "data": {
      "text/html": [
       "<video alt=\"test\" controls>\n",
       "                <source src=\"data:video/mp4;base64,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\" type=\"video/mp4\" />\n",
       "             </video>"
      ],
      "text/plain": [
       "<IPython.core.display.HTML object>"
      ]
     },
     "execution_count": 31,
     "metadata": {},
     "output_type": "execute_result"
    }
   ],
   "source": [
    "HTML(display_videos('fc_test10.mp4'))"
   ]
  },
  {
   "cell_type": "markdown",
   "metadata": {},
   "source": [
    "> It can be seen that the CNN architecture gives better results than the FC architecture, even if we used the same hyperparameters, and this is valid for all temperatures. However, we noted that  both algorithms tend to not explore all the maps, and get stucked in the same region because they don't have visibility on all the maps (This behaviour is very noticeable at low temperatures). Also we noticed that the agent keep exploring areas that he had explored before. This issues can be resolved by, first reducing the exploration rate over episodes, and second by adding a malus if the agent visit a cell which is already visited, so this will prevent the behaviour of getting stucked in the same region."
   ]
  },
  {
   "cell_type": "markdown",
   "metadata": {},
   "source": [
    "***\n",
    "\n",
    "The algorithm tends to not explore the map which can be an issue. We propose two ideas in order to encourage exploration:\n",
    "1. Incorporating a decreasing $\\epsilon$-greedy exploration. You can use the method ```set_epsilon```\n",
    "2. Append via the environment a new state that describes if a cell has been visited or not\n",
    "\n",
    "***\n",
    "__Question 10__ Design a new ```train_explore``` function and environment class ```EnvironmentExploring``` to tackle the issue of exploration.\n",
    "\n"
   ]
  },
  {
   "cell_type": "code",
   "execution_count": 12,
   "metadata": {
    "collapsed": true
   },
   "outputs": [],
   "source": [
    "def train_explore(agent, env, epoch, decay=0.25, prefix=''):\n",
    "    # Number of won games\n",
    "    score = 0\n",
    "    loss = 0\n",
    "\n",
    "    for e in range(epoch):\n",
    "        # At each epoch, we restart to a fresh game and get the initial state\n",
    "        state = env.reset()\n",
    "        # This assumes that the games will terminate\n",
    "        game_over = False\n",
    "\n",
    "        win = 0\n",
    "        lose = 0\n",
    "        \n",
    "        epsilon = agent.epsilon\n",
    "        agent.set_epsilon(epsilon, decay)\n",
    "\n",
    "        while not game_over:\n",
    "            # The agent performs an action\n",
    "            action = agent.act(state)\n",
    "            \n",
    "            # Apply an action to the environment, get the next state, the reward\n",
    "            # and if the games end\n",
    "            prev_state = state\n",
    "            state, reward, game_over = env.act(action, train=True)\n",
    "\n",
    "            # Update the counters\n",
    "            if reward > 0:\n",
    "                win = win + reward\n",
    "            if reward < 0:\n",
    "                lose = lose -reward\n",
    "                \n",
    "            # Apply the reinforcement strategy\n",
    "            loss = agent.reinforce(prev_state, state,  action, reward, game_over)\n",
    "\n",
    "        # Save as a mp4\n",
    "        if e % 10 == 0:\n",
    "            env.draw(prefix+str(e))\n",
    "\n",
    "        # Update stats\n",
    "        score += win-lose\n",
    "\n",
    "        print(\"Epoch {:03d}/{:03d} | Loss {:.4f} | Win/lose count {}/{} ({})\"\n",
    "              .format(e, epoch, loss, win, lose, win-lose))\n",
    "        agent.save(name_weights=prefix+'model.h5',name_model=prefix+'model.json')\n",
    "        \n",
    "class EnvironmentExploring(object):\n",
    "    def __init__(self, grid_size=10, max_time=500, temperature=0.1):\n",
    "        grid_size = grid_size+4\n",
    "        self.grid_size = grid_size\n",
    "        self.max_time = max_time\n",
    "        self.temperature = temperature\n",
    "\n",
    "        #board on which one plays\n",
    "        self.board = np.zeros((grid_size,grid_size))\n",
    "        self.position = np.zeros((grid_size,grid_size))\n",
    "        self.malus_position = np.zeros((grid_size,grid_size))\n",
    "\n",
    "        # coordinate of the cat\n",
    "        self.x = 0\n",
    "        self.y = 1\n",
    "\n",
    "        # self time\n",
    "        self.t = 0\n",
    "\n",
    "        self.scale=16\n",
    "\n",
    "        self.to_draw = np.zeros((max_time+2, grid_size*self.scale, grid_size*self.scale, 3))\n",
    "\n",
    "\n",
    "    def draw(self,e):\n",
    "        skvideo.io.vwrite(str(e) + '.mp4', self.to_draw)\n",
    "\n",
    "    def get_frame(self,t):\n",
    "        b = np.zeros((self.grid_size,self.grid_size,3))+128\n",
    "        b[self.board>0,0] = 256\n",
    "        b[self.board < 0, 2] = 256\n",
    "        b[self.x,self.y,:]=256\n",
    "        b[-2:,:,:]=0\n",
    "        b[:,-2:,:]=0\n",
    "        b[:2,:,:]=0\n",
    "        b[:,:2,:]=0\n",
    "        \n",
    "        b =  cv2.resize(b, None, fx=self.scale, fy=self.scale, interpolation=cv2.INTER_NEAREST)\n",
    "\n",
    "        self.to_draw[t,:,:,:]=b\n",
    "\n",
    "\n",
    "    def act(self, action, train=False):\n",
    "        \"\"\"This function returns the new state, reward and decides if the\n",
    "        game ends.\"\"\"\n",
    "\n",
    "        self.get_frame(int(self.t))\n",
    "\n",
    "        self.position = np.zeros((self.grid_size, self.grid_size))\n",
    "\n",
    "        self.position[0:2,:]= -1\n",
    "        self.position[:,0:2] = -1\n",
    "        self.position[-2:, :] = -1\n",
    "        self.position[:, -2:] = -1\n",
    "\n",
    "        self.position[self.x, self.y] = 1\n",
    "        if action == 0:\n",
    "            if self.x == self.grid_size-3:\n",
    "                self.x = self.x-1\n",
    "            else:\n",
    "                self.x = self.x + 1\n",
    "        elif action == 1:\n",
    "            if self.x == 2:\n",
    "                self.x = self.x+1\n",
    "            else:\n",
    "                self.x = self.x-1\n",
    "        elif action == 2:\n",
    "            if self.y == self.grid_size - 3:\n",
    "                self.y = self.y - 1\n",
    "            else:\n",
    "                self.y = self.y + 1\n",
    "        elif action == 3:\n",
    "            if self.y == 2:\n",
    "                self.y = self.y + 1\n",
    "            else:\n",
    "                self.y = self.y - 1\n",
    "        else:\n",
    "            RuntimeError('Error: action not recognized')\n",
    "\n",
    "        self.t = self.t + 1\n",
    "        \n",
    "        reward = 0\n",
    "        if train:\n",
    "            reward = -self.malus_position[self.x, self.y]\n",
    "            \n",
    "        self.malus_position[self.x, self.y] += 0.1\n",
    "        reward = reward + self.board[self.x, self.y]   \n",
    "        \n",
    "        self.board[self.x, self.y] = 0 # erase reward from board\n",
    "        game_over = self.t > self.max_time # game over if more than 500 steps\n",
    "\n",
    "        state = np.concatenate((self.malus_position.reshape(self.grid_size, self.grid_size,1),\n",
    "                                self.board.reshape(self.grid_size, self.grid_size,1),\n",
    "                                self.position.reshape(self.grid_size, self.grid_size,1)),axis=2)\n",
    "        \n",
    "        state = state[self.x-2:self.x+3,self.y-2:self.y+3,:]\n",
    "\n",
    "        return state, reward, game_over\n",
    "\n",
    "    def reset(self):\n",
    "        \"\"\"This function resets the game and returns the initial state\"\"\"\n",
    "\n",
    "        self.x = np.random.randint(3, self.grid_size-3, size=1)[0]\n",
    "        self.y = np.random.randint(3, self.grid_size-3, size=1)[0]\n",
    "\n",
    "        # set bonus\n",
    "        bonus = 0.5*np.random.binomial(1,self.temperature,size=self.grid_size**2)\n",
    "        bonus = bonus.reshape(self.grid_size,self.grid_size)\n",
    "\n",
    "        # set malus\n",
    "        malus = -1.0*np.random.binomial(1,self.temperature,size=self.grid_size**2)\n",
    "        malus = malus.reshape(self.grid_size, self.grid_size)\n",
    "\n",
    "        self.to_draw = np.zeros((self.max_time+2, self.grid_size*self.scale, self.grid_size*self.scale, 3))\n",
    "\n",
    "\n",
    "        malus[bonus>0]=0\n",
    "\n",
    "        self.board = bonus + malus\n",
    "        \n",
    "        # lines added (put 0 poison/cheese outside the border)\n",
    "        self.board[:2,:] = 0\n",
    "        self.board[-2:,:] = 0\n",
    "        self.board[:, :2] = 0\n",
    "        self.board[:, -2:] = 0\n",
    "\n",
    "        self.position = np.zeros((self.grid_size, self.grid_size))\n",
    "        self.position[0:2,:]= -1\n",
    "        self.position[:,0:2] = -1\n",
    "        self.position[-2:, :] = -1 # error, 2 times same line\n",
    "        self.position[:, -2:] = -1\n",
    "        self.board[self.x,self.y] = 0\n",
    "        self.t = 0\n",
    "        \n",
    "        self.malus_position = np.zeros((self.grid_size, self.grid_size))\n",
    "\n",
    "        state = np.concatenate((self.malus_position.reshape(self.grid_size, self.grid_size,1),\n",
    "                                self.board.reshape(self.grid_size, self.grid_size,1),\n",
    "                                self.position.reshape(self.grid_size, self.grid_size,1)),axis=2)\n",
    "\n",
    "        state = state[self.x - 2:self.x + 3, self.y - 2:self.y + 3, :]\n",
    "        return state"
   ]
  },
  {
   "cell_type": "code",
   "execution_count": 63,
   "metadata": {
    "collapsed": true
   },
   "outputs": [
    {
     "name": "stdout",
     "output_type": "stream",
     "text": [
      "Epoch 000/050 | Loss 0.0321 | Win/lose count 10.5/57.30000000000004 (-46.80000000000004)\n",
      "Epoch 001/050 | Loss 0.0081 | Win/lose count 17.0/33.30000000000002 (-16.30000000000002)\n",
      "Epoch 002/050 | Loss 0.0106 | Win/lose count 20.5/23.90000000000001 (-3.4000000000000092)\n",
      "Epoch 003/050 | Loss 0.0263 | Win/lose count 17.0/32.40000000000004 (-15.400000000000041)\n",
      "Epoch 004/050 | Loss 0.0084 | Win/lose count 18.0/28.50000000000004 (-10.500000000000039)\n",
      "Epoch 005/050 | Loss 0.0479 | Win/lose count 18.0/23.700000000000006 (-5.700000000000006)\n",
      "Epoch 006/050 | Loss 0.0149 | Win/lose count 23.0/24.8 (-1.8000000000000007)\n",
      "Epoch 007/050 | Loss 0.0145 | Win/lose count 18.5/18.4 (0.10000000000000142)\n",
      "Epoch 008/050 | Loss 0.0102 | Win/lose count 21.0/20.59999999999998 (0.4000000000000199)\n",
      "Epoch 009/050 | Loss 0.0086 | Win/lose count 25.0/17.49999999999999 (7.500000000000011)\n",
      "Epoch 010/050 | Loss 0.0146 | Win/lose count 23.0/19.500000000000004 (3.4999999999999964)\n",
      "Epoch 011/050 | Loss 0.0630 | Win/lose count 23.5/16.59999999999998 (6.90000000000002)\n",
      "Epoch 012/050 | Loss 0.0077 | Win/lose count 24.0/18.3 (5.699999999999999)\n",
      "Epoch 013/050 | Loss 0.0326 | Win/lose count 20.5/16.499999999999982 (4.000000000000018)\n",
      "Epoch 014/050 | Loss 0.0198 | Win/lose count 22.0/19.399999999999984 (2.6000000000000156)\n",
      "Epoch 015/050 | Loss 0.0110 | Win/lose count 25.0/12.099999999999987 (12.900000000000013)\n",
      "Epoch 016/050 | Loss 0.0446 | Win/lose count 21.5/16.799999999999983 (4.700000000000017)\n",
      "Epoch 017/050 | Loss 0.0271 | Win/lose count 21.5/17.699999999999985 (3.800000000000015)\n",
      "Epoch 018/050 | Loss 0.0116 | Win/lose count 25.0/15.099999999999977 (9.900000000000023)\n",
      "Epoch 019/050 | Loss 0.0324 | Win/lose count 29.0/13.299999999999986 (15.700000000000014)\n",
      "Epoch 020/050 | Loss 0.0089 | Win/lose count 24.5/16.699999999999974 (7.800000000000026)\n",
      "Epoch 021/050 | Loss 0.0145 | Win/lose count 25.5/14.799999999999983 (10.700000000000017)\n",
      "Epoch 022/050 | Loss 0.0114 | Win/lose count 26.5/13.099999999999984 (13.400000000000016)\n",
      "Epoch 023/050 | Loss 0.0120 | Win/lose count 18.5/22.09999999999999 (-3.5999999999999908)\n",
      "Epoch 024/050 | Loss 0.0089 | Win/lose count 27.0/17.299999999999983 (9.700000000000017)\n",
      "Epoch 025/050 | Loss 0.0064 | Win/lose count 23.0/10.999999999999988 (12.000000000000012)\n",
      "Epoch 026/050 | Loss 0.0160 | Win/lose count 23.0/16.099999999999973 (6.900000000000027)\n",
      "Epoch 027/050 | Loss 0.0122 | Win/lose count 23.5/15.099999999999982 (8.400000000000018)\n",
      "Epoch 028/050 | Loss 0.0147 | Win/lose count 24.0/14.499999999999988 (9.500000000000012)\n",
      "Epoch 029/050 | Loss 0.0170 | Win/lose count 21.5/17.49999999999999 (4.000000000000011)\n",
      "Epoch 030/050 | Loss 0.0093 | Win/lose count 22.0/24.099999999999987 (-2.099999999999987)\n",
      "Epoch 031/050 | Loss 0.0273 | Win/lose count 22.5/17.099999999999977 (5.4000000000000234)\n",
      "Epoch 032/050 | Loss 0.0111 | Win/lose count 23.0/12.899999999999983 (10.100000000000017)\n",
      "Epoch 033/050 | Loss 0.0117 | Win/lose count 22.0/18.499999999999993 (3.500000000000007)\n",
      "Epoch 034/050 | Loss 0.0161 | Win/lose count 25.5/16.399999999999984 (9.100000000000016)\n",
      "Epoch 035/050 | Loss 0.0186 | Win/lose count 22.5/14.199999999999983 (8.300000000000017)\n",
      "Epoch 036/050 | Loss 0.0215 | Win/lose count 22.5/18.99999999999999 (3.5000000000000107)\n",
      "Epoch 037/050 | Loss 0.0202 | Win/lose count 26.0/16.09999999999998 (9.90000000000002)\n",
      "Epoch 038/050 | Loss 0.0336 | Win/lose count 19.5/27.19999999999999 (-7.699999999999989)\n",
      "Epoch 039/050 | Loss 0.0342 | Win/lose count 20.0/18.999999999999996 (1.0000000000000036)\n",
      "Epoch 040/050 | Loss 0.0233 | Win/lose count 22.5/15.499999999999984 (7.000000000000016)\n",
      "Epoch 041/050 | Loss 0.0228 | Win/lose count 18.0/22.199999999999992 (-4.199999999999992)\n",
      "Epoch 042/050 | Loss 0.0123 | Win/lose count 24.0/15.899999999999983 (8.100000000000017)\n",
      "Epoch 043/050 | Loss 0.0160 | Win/lose count 28.0/19.89999999999999 (8.100000000000009)\n",
      "Epoch 044/050 | Loss 0.0434 | Win/lose count 25.0/12.89999999999999 (12.10000000000001)\n",
      "Epoch 045/050 | Loss 0.0240 | Win/lose count 27.5/16.59999999999998 (10.90000000000002)\n",
      "Epoch 046/050 | Loss 0.0303 | Win/lose count 25.5/16.799999999999994 (8.700000000000006)\n",
      "Epoch 047/050 | Loss 0.0116 | Win/lose count 19.5/17.39999999999998 (2.100000000000019)\n",
      "Epoch 048/050 | Loss 0.0162 | Win/lose count 25.5/20.299999999999997 (5.200000000000003)\n",
      "Epoch 049/050 | Loss 0.0160 | Win/lose count 20.5/18.899999999999988 (1.600000000000012)\n"
     ]
    },
    {
     "data": {
      "text/html": [
       "<video alt=\"test\" controls>\n",
       "                <source src=\"data:video/mp4;base64,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\" type=\"video/mp4\" />\n",
       "             </video>"
      ],
      "text/plain": [
       "<IPython.core.display.HTML object>"
      ]
     },
     "execution_count": 63,
     "metadata": {},
     "output_type": "execute_result"
    }
   ],
   "source": [
    "# Training\n",
    "env = EnvironmentExploring(grid_size=size, max_time=T, temperature=0.3)\n",
    "agent = DQN_CNN(size, lr=.1, epsilon = 0.1, memory_size=2000, batch_size = 32,n_state=3)\n",
    "train_explore(agent, env, 50, decay=0.05, prefix='cnn_train_explore')\n",
    "HTML(display_videos('cnn_train_explore10.mp4'))"
   ]
  },
  {
   "cell_type": "code",
   "execution_count": 65,
   "metadata": {},
   "outputs": [
    {
     "name": "stdout",
     "output_type": "stream",
     "text": [
      "Win/lose count 26.5/3.0. Average score (23.5)\n",
      "Win/lose count 25.5/6.0. Average score (21.5)\n",
      "Win/lose count 24.0/3.0. Average score (21.333333333333332)\n",
      "Win/lose count 30.5/3.0. Average score (22.875)\n",
      "Win/lose count 22.5/6.0. Average score (21.6)\n",
      "Win/lose count 18.0/3.0. Average score (20.5)\n",
      "Win/lose count 23.5/3.0. Average score (20.5)\n",
      "Win/lose count 27.0/2.0. Average score (21.0625)\n",
      "Win/lose count 27.5/3.0. Average score (21.444444444444443)\n",
      "Win/lose count 22.0/9.0. Average score (20.6)\n",
      "Win/lose count 27.5/1.0. Average score (21.136363636363637)\n",
      "Win/lose count 25.0/4.0. Average score (21.125)\n",
      "Win/lose count 25.0/3.0. Average score (21.192307692307693)\n",
      "Win/lose count 17.5/3.0. Average score (20.714285714285715)\n",
      "Win/lose count 20.0/6.0. Average score (20.266666666666666)\n",
      "Win/lose count 18.0/11.0. Average score (19.4375)\n",
      "Win/lose count 23.5/7.0. Average score (19.264705882352942)\n",
      "Win/lose count 25.5/7.0. Average score (19.22222222222222)\n",
      "Win/lose count 25.0/2.0. Average score (19.42105263157895)\n",
      "Win/lose count 16.0/4.0. Average score (19.05)\n",
      "Final score: 19.05\n"
     ]
    },
    {
     "data": {
      "text/html": [
       "<video alt=\"test\" controls>\n",
       "                <source src=\"data:video/mp4;base64,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\" type=\"video/mp4\" />\n",
       "             </video>"
      ],
      "text/plain": [
       "<IPython.core.display.HTML object>"
      ]
     },
     "execution_count": 65,
     "metadata": {},
     "output_type": "execute_result"
    }
   ],
   "source": [
    "# Evaluation\n",
    "test(agent,env,epochs_test,prefix='cnn_test_explore')\n",
    "HTML(display_videos('cnn_test_explore10.mp4'))"
   ]
  },
  {
   "cell_type": "markdown",
   "metadata": {},
   "source": [
    "***\n",
    "***\n",
    "__BONUS question__ Use the expert DQN from the previous question to generate some winning games. Train a model that mimicks its behavior. Compare the performances."
   ]
  },
  {
   "cell_type": "markdown",
   "metadata": {},
   "source": []
  },
  {
   "cell_type": "markdown",
   "metadata": {},
   "source": [
    "***"
   ]
  }
 ],
 "metadata": {
  "kernelspec": {
   "display_name": "tensorflow",
   "language": "python",
   "name": "tensorflow"
  },
  "language_info": {
   "codemirror_mode": {
    "name": "ipython",
    "version": 3
   },
   "file_extension": ".py",
   "mimetype": "text/x-python",
   "name": "python",
   "nbconvert_exporter": "python",
   "pygments_lexer": "ipython3",
   "version": "3.6.7"
  }
 },
 "nbformat": 4,
 "nbformat_minor": 2
}
