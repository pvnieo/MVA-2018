{
 "cells": [
  {
   "cell_type": "markdown",
   "metadata": {},
   "source": [
    "## Imports"
   ]
  },
  {
   "cell_type": "code",
   "execution_count": 112,
   "metadata": {},
   "outputs": [],
   "source": [
    "# project\n",
    "from exo1 import MDP, Action\n",
    "from TP1_python.gridworld import *\n",
    "# stdlib\n",
    "import matplotlib.pyplot as plt\n",
    "import numpy as np\n",
    "import random\n",
    "%matplotlib inline"
   ]
  },
  {
   "cell_type": "markdown",
   "metadata": {},
   "source": [
    "## Exercice 1: Dynamic Programming"
   ]
  },
  {
   "cell_type": "markdown",
   "metadata": {},
   "source": [
    "### Q1: Define MDP"
   ]
  },
  {
   "cell_type": "code",
   "execution_count": 2,
   "metadata": {},
   "outputs": [],
   "source": [
    "a00 = Action(\"a00\", \"s0\", [\"s0\", \"s1\"], [0.55, 0.45], 0)\n",
    "a01 = Action(\"a01\", \"s0\", [\"s0\", \"s1\"], [0.3, 0.7], 0)\n",
    "a02 = Action(\"a02\", \"s0\", [\"s0\"], [1], 5/100)\n",
    "a10 = Action(\"a10\", \"s1\", [\"s0\"], [1], 0)\n",
    "a11 = Action(\"a11\", \"s1\", [\"s1\", \"s2\"], [0.4, 0.6], 0)\n",
    "a12 = Action(\"a12\", \"s1\", [\"s1\"], [1], 0)\n",
    "a20 = Action(\"a20\", \"s2\", [\"s1\"], [1], 0)\n",
    "a21 = Action(\"a21\", \"s2\", [\"s1\", \"s2\"], [0.6, 0.4], 1)\n",
    "a22 = Action(\"a22\", \"s2\", [\"s2\"], [1], 9/10)\n",
    "actions = [a00, a01, a02, a10, a11, a12, a20, a21, a22]\n",
    "mdp = MDP(actions)"
   ]
  },
  {
   "cell_type": "markdown",
   "metadata": {},
   "source": [
    "### Q2: VI / PE"
   ]
  },
  {
   "cell_type": "code",
   "execution_count": 3,
   "metadata": {},
   "outputs": [
    {
     "name": "stdout",
     "output_type": "stream",
     "text": [
      "Number of iteration for epsilon = 0.01 : 89 iterations\n"
     ]
    }
   ],
   "source": [
    "# Run value iteration algorithm\n",
    "pi_1, hist = mdp.value_iterate()"
   ]
  },
  {
   "cell_type": "code",
   "execution_count": 4,
   "metadata": {},
   "outputs": [
    {
     "data": {
      "image/png": "[encoded data removed]",
      "text/plain": [
       "<Figure size 432x288 with 1 Axes>"
      ]
     },
     "metadata": {
      "needs_background": "light"
     },
     "output_type": "display_data"
    }
   ],
   "source": [
    "# Plot graph\n",
    "v_hist = np.max(np.abs(hist - hist[-1]), axis=1)\n",
    "plt.plot(v_hist)\n",
    "plt.xlabel('Number of iterations')\n",
    "plt.ylabel('||v - v*||')\n",
    "plt.title('Value iteration')\n",
    "plt.savefig('../report/e1q21.png')"
   ]
  },
  {
   "cell_type": "code",
   "execution_count": 5,
   "metadata": {},
   "outputs": [
    {
     "name": "stdout",
     "output_type": "stream",
     "text": [
      "The optimal policy found by value iteration algorithm is: [1 1 2]\n"
     ]
    }
   ],
   "source": [
    "print(\"The optimal policy found by value iteration algorithm is:\", pi_1)"
   ]
  },
  {
   "cell_type": "code",
   "execution_count": 6,
   "metadata": {},
   "outputs": [
    {
     "name": "stdout",
     "output_type": "stream",
     "text": [
      "v* = [15.39115723 16.5483871  18.        ]\n"
     ]
    }
   ],
   "source": [
    "# Run policy evaluation on pi*\n",
    "print(\"v* =\", (mdp.policy_evaluation(pi_1)))"
   ]
  },
  {
   "cell_type": "markdown",
   "metadata": {},
   "source": [
    "### Q3 : PI"
   ]
  },
  {
   "cell_type": "code",
   "execution_count": 7,
   "metadata": {},
   "outputs": [
    {
     "name": "stdout",
     "output_type": "stream",
     "text": [
      "Number of iteration for pi0 = [0 0 0] : 4\n"
     ]
    }
   ],
   "source": [
    "# Run policy iteration algorithm\n",
    "pi_2, hist_p = mdp.exact_policy_iterate(np.array([0,0,0]))"
   ]
  },
  {
   "cell_type": "code",
   "execution_count": 8,
   "metadata": {},
   "outputs": [
    {
     "name": "stdout",
     "output_type": "stream",
     "text": [
      "the optimal policy found by policy iteration algorithm is:  [1 1 2]\n"
     ]
    }
   ],
   "source": [
    "print(\"the optimal policy found by policy iteration algorithm is: \", pi_2)"
   ]
  },
  {
   "cell_type": "markdown",
   "metadata": {},
   "source": [
    "## Exercice 2: Reinforcement Learning"
   ]
  },
  {
   "cell_type": "code",
   "execution_count": 2,
   "metadata": {},
   "outputs": [
    {
     "data": {
      "text/plain": [
       "[['', '', '', 1], ['', 'x', '', -1], ['', '', '', '']]"
      ]
     },
     "execution_count": 2,
     "metadata": {},
     "output_type": "execute_result"
    }
   ],
   "source": [
    "GridWorld1.grid"
   ]
  },
  {
   "cell_type": "code",
   "execution_count": 28,
   "metadata": {},
   "outputs": [
    {
     "data": {
      "text/plain": [
       "(9, 0.0, False)"
      ]
     },
     "execution_count": 28,
     "metadata": {},
     "output_type": "execute_result"
    }
   ],
   "source": [
    "# 0: right|1: down|2: left|3: up\n",
    "GridWorld1.step(10, 2)"
   ]
  },
  {
   "cell_type": "code",
   "execution_count": 4,
   "metadata": {},
   "outputs": [
    {
     "data": {
      "text/plain": [
       "array([[ 0,  1,  2,  3],\n",
       "       [ 4, -1,  5,  6],\n",
       "       [ 7,  8,  9, 10]])"
      ]
     },
     "execution_count": 4,
     "metadata": {},
     "output_type": "execute_result"
    }
   ],
   "source": [
    "GridWorld1.coord2state"
   ]
  },
  {
   "cell_type": "code",
   "execution_count": 5,
   "metadata": {},
   "outputs": [
    {
     "data": {
      "text/plain": [
       "[[0, 1],\n",
       " [0, 2],\n",
       " [0, 1, 2],\n",
       " [0],\n",
       " [1, 3],\n",
       " [0, 1, 3],\n",
       " [0],\n",
       " [0, 3],\n",
       " [0, 2],\n",
       " [0, 2, 3],\n",
       " [2, 3]]"
      ]
     },
     "execution_count": 5,
     "metadata": {},
     "output_type": "execute_result"
    }
   ],
   "source": [
    "GridWorld1.state_actions"
   ]
  },
  {
   "cell_type": "code",
   "execution_count": 7,
   "metadata": {},
   "outputs": [],
   "source": [
    "max_act = max(map(len, GridWorld1.state_actions))\n",
    "q = np.random.rand(GridWorld1.n_states, max_act)\n",
    "gui.render_q(GridWorld1, q)"
   ]
  },
  {
   "cell_type": "code",
   "execution_count": 21,
   "metadata": {},
   "outputs": [
    {
     "data": {
      "text/plain": [
       "7"
      ]
     },
     "execution_count": 21,
     "metadata": {},
     "output_type": "execute_result"
    }
   ],
   "source": [
    "GridWorld1.reset()"
   ]
  },
  {
   "cell_type": "markdown",
   "metadata": {},
   "source": [
    "### Q4: Policy evaluation"
   ]
  },
  {
   "cell_type": "code",
   "execution_count": 114,
   "metadata": {},
   "outputs": [
    {
     "name": "stdout",
     "output_type": "stream",
     "text": [
      "T_max = 92\n"
     ]
    }
   ],
   "source": [
    "# setup\n",
    "n_states = 11\n",
    "n_actions = 4\n",
    "discount_factor = 0.95\n",
    "delta = 0.01\n",
    "policy = [0, 0, 0, 0, 3, 0, 0, 0, 0, 0, 3] # right if available, otherwise up\n",
    "T_m = int(- np.log(delta) / (1 - discount_factor))\n",
    "v_q4 = [0.87691855, 0.92820033, 0.98817903, 0.00000000, 0.67106071, -0.99447514, 0.00000000, -0.82847001, -0.87691855,\n",
    "        -0.93358351, -0.99447514]\n",
    "print(\"T_max =\", T_m)"
   ]
  },
  {
   "cell_type": "markdown",
   "metadata": {},
   "source": [
    "#### Estimate mu_0"
   ]
  },
  {
   "cell_type": "code",
   "execution_count": 37,
   "metadata": {},
   "outputs": [
    {
     "name": "stdout",
     "output_type": "stream",
     "text": [
      "mu_0 distribution: [0.14031, 0.09148, 0.09141, 0.04088, 0.09151, 0.09013, 0.09185, 0.09084, 0.09078, 0.09055, 0.09026]\n"
     ]
    }
   ],
   "source": [
    "# estimate mu\n",
    "d = {i:0 for i in range(n_states)}\n",
    "N = 100000\n",
    "def estimate():\n",
    "    for _ in range(N):\n",
    "        d[GridWorld1.reset()] += 1\n",
    "    return [d[i]/N for i in range(n_states)]\n",
    "# mu_0 = estimate()\n",
    "print(\"mu_0 distribution:\", mu_0)"
   ]
  },
  {
   "cell_type": "markdown",
   "metadata": {},
   "source": [
    "#### Compute V_n"
   ]
  },
  {
   "cell_type": "code",
   "execution_count": 106,
   "metadata": {},
   "outputs": [],
   "source": [
    "def simulate_one_trajectory(policy, T_m, discount_factor):\n",
    "    s0 = GridWorld1.reset()\n",
    "    state = s0\n",
    "    t = 1\n",
    "    r = 0\n",
    "    while t < T_m:\n",
    "        action = policy[state]\n",
    "        state, reward, term = GridWorld1.step(state, action)\n",
    "        r += reward * discount_factor ** (t - 1)\n",
    "        if term:\n",
    "            break\n",
    "        t += 1\n",
    "    return s0, r\n",
    "\n",
    "def compute_v_n(n, policy=policy, T_m=T_m, discount_factor=discount_factor):\n",
    "    d = {i: [0, 0] for i in range(n_states)}\n",
    "    for _ in range(n):\n",
    "        s0, r = simulate_one_trajectory(policy, T_m, discount_factor)\n",
    "        d[s0][0] += 1\n",
    "        d[s0][1] += r\n",
    "    V_n = [d[i][1] / d[i][0] if d[i][0] != 0 else 0 for i in range(n_states)]\n",
    "    return V_n"
   ]
  },
  {
   "cell_type": "code",
   "execution_count": 88,
   "metadata": {},
   "outputs": [
    {
     "name": "stdout",
     "output_type": "stream",
     "text": [
      "J_p4 =  -0.059103820369200005\n"
     ]
    }
   ],
   "source": [
    "# Compute J_p4\n",
    "J_p4 = sum([v_q4[i] * mu_0[i] for i in range(n_states)])\n",
    "print(\"J_p4 = \", J_p4)"
   ]
  },
  {
   "cell_type": "markdown",
   "metadata": {},
   "source": [
    "#### Plot $J_n - J^{\\pi}$"
   ]
  },
  {
   "cell_type": "code",
   "execution_count": 109,
   "metadata": {},
   "outputs": [],
   "source": [
    "## Compute J_n - J_pi\n",
    "J_n = []\n",
    "n = 10000\n",
    "for i in range(n):\n",
    "    vn = compute_v_n(i)\n",
    "    jn = sum([vn[i] * mu_0[i] for i in range(n_states)])\n",
    "    J_n.append(jn - J_p4)"
   ]
  },
  {
   "cell_type": "code",
   "execution_count": 110,
   "metadata": {},
   "outputs": [
    {
     "data": {
      "image/png": "[encoded data removed]",
      "text/plain": [
       "<Figure size 432x288 with 1 Axes>"
      ]
     },
     "metadata": {
      "needs_background": "light"
     },
     "output_type": "display_data"
    }
   ],
   "source": [
    "plt.plot(J_n)\n",
    "plt.xlabel(\"n\")\n",
    "plt.ylabel(\"$J_n - J^{\\pi}$\")\n",
    "plt.title(\"Evolution of $J_n - J^{\\pi}$\")\n",
    "plt.savefig('../report/e2q1.png')"
   ]
  },
  {
   "cell_type": "markdown",
   "metadata": {},
   "source": [
    "### Q5 : Policy optimization"
   ]
  },
  {
   "cell_type": "code",
   "execution_count": 111,
   "metadata": {},
   "outputs": [],
   "source": [
    "v_s =  [0.877, 0.928, 0.988, 0, 0.824, 0.928, 0, 0.778, 0.824, 0.877, 0.828]"
   ]
  },
  {
   "cell_type": "markdown",
   "metadata": {},
   "source": [
    "#### Implement Q-learning algorithm"
   ]
  },
  {
   "cell_type": "code",
   "execution_count": 149,
   "metadata": {},
   "outputs": [],
   "source": [
    "def one_iteration_q_learning(q, T_m, discount_factor, eps):\n",
    "    N = np.zeros((n_states, n_actions))\n",
    "    s0 = GridWorld1.reset()\n",
    "    state = s0\n",
    "    t = 1\n",
    "    r = 0\n",
    "    while t < T_m:\n",
    "        if random.random() < eps:\n",
    "            action = random.choice(GridWorld1.state_actions[state])\n",
    "        else:\n",
    "            action = np.argmax(q[state, :])\n",
    "            if action not in GridWorld1.state_actions[state]:\n",
    "                action = random.choice(GridWorld1.state_actions[state])\n",
    "        N[state, action] += 1\n",
    "        state, reward, term = GridWorld1.step(state, action)\n",
    "        r += reward * discount_factor ** (t - 1)\n",
    "        if term:\n",
    "            break\n",
    "        t += 1\n",
    "    return N, r\n",
    "\n",
    "def q_learning(n, eps=0.15, T_m=T_m, discount_factor=discount_factor, q0=None):\n",
    "    q = np.random.dirichlet(np.ones(n_actions), size=n_states) if q0 is None else q0\n",
    "    count = 1\n",
    "    while count < n:\n",
    "        print(\"Iteration :\", count, \"\\r\", end=\"\")\n",
    "        qs = np.zeros((n_states, n_actions))\n",
    "        N, r = one_iteration_q_learning(q, T_m, discount_factor, eps)\n",
    "        for i in range(n_states):\n",
    "            for j in range(n_actions):\n",
    "                if j  in GridWorld1.state_actions[i]:\n",
    "                    t1 = (1 - N[i, j]) * q[i, j]\n",
    "                    jp, _, _ =  GridWorld1.step(i, j)\n",
    "                    t2 = r + discount_factor * np.max(q[jp, :])\n",
    "                    qs[i, j] = t1 + N[i, j] * t2\n",
    "        q = qs\n",
    "        count += 1\n",
    "    return q"
   ]
  },
  {
   "cell_type": "code",
   "execution_count": 151,
   "metadata": {},
   "outputs": [
    {
     "name": "stdout",
     "output_type": "stream",
     "text": [
      "Iteration : 1 \r",
      "Iteration : 2 \r",
      "Iteration : 3 \r",
      "Iteration : 4 \r",
      "Iteration : 5 \r",
      "Iteration : 6 \r",
      "Iteration : 7 \r",
      "Iteration : 8 \r",
      "Iteration : 9 \r"
     ]
    },
    {
     "data": {
      "text/plain": [
       "array([[-2.40002791, -3.30940217,  0.        ,  0.        ],\n",
       "       [ 0.56768491,  0.        , -0.32737048,  0.        ],\n",
       "       [ 0.44987595, -1.15839143,  0.14716665,  0.        ],\n",
       "       [ 0.19616405,  0.        ,  0.        ,  0.        ],\n",
       "       [ 0.        , 11.54979012,  0.        , 24.00755364],\n",
       "       [ 0.09727757,  0.08974483,  0.        ,  3.07572134],\n",
       "       [ 0.23255353,  0.        ,  0.        ,  0.        ],\n",
       "       [35.21152422,  0.        ,  0.        , -2.82596354],\n",
       "       [ 0.08974483,  0.        ,  3.65172945,  0.        ],\n",
       "       [-0.45413453,  0.        , -0.37647669,  6.66612947],\n",
       "       [ 0.        ,  0.        ,  0.18329804, -0.76744647]])"
      ]
     },
     "execution_count": 151,
     "metadata": {},
     "output_type": "execute_result"
    }
   ],
   "source": [
    "q_learning(10)"
   ]
  },
  {
   "cell_type": "code",
   "execution_count": null,
   "metadata": {},
   "outputs": [],
   "source": [
    "    "
   ]
  }
 ],
 "metadata": {
  "kernelspec": {
   "display_name": "Python 3",
   "language": "python",
   "name": "python3"
  },
  "language_info": {
   "codemirror_mode": {
    "name": "ipython",
    "version": 3
   },
   "file_extension": ".py",
   "mimetype": "text/x-python",
   "name": "python",
   "nbconvert_exporter": "python",
   "pygments_lexer": "ipython3",
   "version": "3.6.6"
  }
 },
 "nbformat": 4,
 "nbformat_minor": 2
}
