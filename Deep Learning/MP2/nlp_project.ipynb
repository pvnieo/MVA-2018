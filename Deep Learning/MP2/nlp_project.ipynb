{
 "cells": [
  {
   "cell_type": "markdown",
   "metadata": {},
   "source": [
    "# Deep Learning for NLP - Project"
   ]
  },
  {
   "cell_type": "markdown",
   "metadata": {},
   "source": [
    "RULES:\n",
    "\n",
    "* Do not create any additional cell\n",
    "\n",
    "* Fill in the blanks\n",
    "\n",
    "* All cells should be runnable (modulo trivial compatibility bugs that we'd fix)\n",
    "\n",
    "* 4 / 20 points will be allocated to the clarity of your code\n",
    "\n",
    "* Efficient code will have a bonus\n",
    "\n",
    "DELIVERABLE:\n",
    "\n",
    "* this notebook\n",
    "* the predictions of the SST test set\n",
    "\n",
    "DO NOT INCLUDE THE DATASETS IN THE DELIVERABLE.."
   ]
  },
  {
   "cell_type": "code",
   "execution_count": 40,
   "metadata": {},
   "outputs": [],
   "source": [
    "import io\n",
    "import os\n",
    "import numpy as np\n",
    "import scipy\n",
    "from scipy import linalg\n",
    "import matplotlib.pyplot as plt\n",
    "%matplotlib inline"
   ]
  },
  {
   "cell_type": "code",
   "execution_count": 5,
   "metadata": {},
   "outputs": [],
   "source": [
    "PATH_TO_DATA = \"./data/\""
   ]
  },
  {
   "cell_type": "markdown",
   "metadata": {},
   "source": [
    "# 1) Monolingual (English) word embeddings "
   ]
  },
  {
   "cell_type": "code",
   "execution_count": 3,
   "metadata": {},
   "outputs": [],
   "source": [
    "class Word2vec():\n",
    "    def __init__(self, fname, nmax=100000):\n",
    "        self.load_wordvec(fname, nmax)\n",
    "        self.word2id = dict.fromkeys(self.word2vec.keys())\n",
    "        self.id2word = {v: k for k, v in self.word2id.items()}\n",
    "        self.embeddings = np.array(self.word2vec.values())\n",
    "    \n",
    "    def load_wordvec(self, fname, nmax):\n",
    "        self.word2vec = {}\n",
    "        with io.open(fname, encoding='utf-8') as f:\n",
    "            next(f)\n",
    "            i = 0\n",
    "            for line in f:\n",
    "                word, vec = line.split(' ', 1)\n",
    "                # Lower word if the lowered version do not exist in vocab \n",
    "                # to avoid not having words in vocab for part 2 (with BoW)\n",
    "                if word.lower() not in self.word2vec:\n",
    "                    self.word2vec[word.lower()] = np.fromstring(vec, sep=' ')\n",
    "                    i += 1 \n",
    "                if i == nmax:\n",
    "                    break\n",
    "        print('Loaded %s pretrained word vectors' % (len(self.word2vec)))\n",
    "\n",
    "    def most_similar(self, w, K=5):\n",
    "        # K most similar words: self.score  -  np.argsort\n",
    "        words = list(self.word2vec.keys())\n",
    "        if w in words:\n",
    "            order = np.argsort([self.score(w, x) for x in words])[-K :][::-1]\n",
    "            return [words[x] for x in order]\n",
    "        else:\n",
    "            print(\"{} is not in vocabulary\".format(w))\n",
    "            []\n",
    "            \n",
    "\n",
    "    def score(self, w1, w2):\n",
    "        # cosine similarity: np.dot  -  np.linalg.norm\n",
    "        try:\n",
    "            embed1 = self.word2vec[w1]\n",
    "            embed2 = self.word2vec[w2]\n",
    "            return np.dot(embed1, embed2) / (np.linalg.norm(embed1) * np.linalg.norm(embed2))\n",
    "        except KeyError as e:\n",
    "            # retrun -1 for words not in dict\n",
    "            print(\"{} is not in vocabulary\".format(e.args[0]))\n",
    "            return -1\n"
   ]
  },
  {
   "cell_type": "code",
   "execution_count": 4,
   "metadata": {},
   "outputs": [
    {
     "name": "stdout",
     "output_type": "stream",
     "text": [
      "Loaded 25000 pretrained word vectors\n",
      "cat dog 0.671683666279249\n",
      "dog pet 0.6842064029669219\n",
      "dogs cats 0.7074389328052404\n",
      "paris france 0.7058595452409975\n",
      "germany berlin 0.7060253015336013\n",
      "['cat', 'cats', 'kitten', 'feline', 'kitties']\n",
      "['dog', 'dogs', 'puppy', 'doggie', 'canine']\n",
      "['dogs', 'dog', 'puppies', 'cats', 'canine']\n",
      "['paris', 'parisian', 'france', 'marseille', 'louvre']\n",
      "['germany', 'austria', 'bavaria', 'berlin', 'munich']\n"
     ]
    }
   ],
   "source": [
    "w2v = Word2vec(os.path.join(PATH_TO_DATA, 'crawl-300d-200k.vec'), nmax=25000)\n",
    "\n",
    "# You will be evaluated on the output of the following:\n",
    "for w1, w2 in zip(('cat', 'dog', 'dogs', 'paris', 'germany'), ('dog', 'pet', 'cats', 'france', 'berlin')):\n",
    "    print(w1, w2, w2v.score(w1, w2))\n",
    "for w1 in ['cat', 'dog', 'dogs', 'paris', 'germany']:\n",
    "    print(w2v.most_similar(w1))"
   ]
  },
  {
   "cell_type": "code",
   "execution_count": 5,
   "metadata": {},
   "outputs": [],
   "source": [
    "class BoV():\n",
    "    def __init__(self, w2v):\n",
    "        self.w2v = w2v\n",
    "    \n",
    "    def encode(self, sentences, idf=False):\n",
    "        # takes a list of sentences, outputs a numpy array of sentence embeddings\n",
    "        # see TP1 for help\n",
    "        sentemb = []\n",
    "        for sent in sentences:\n",
    "            if idf is False:\n",
    "                # mean of word vectors\n",
    "                embed = []\n",
    "                \n",
    "                # compute the embeding for the different words of sent\n",
    "                for word in sent.split():\n",
    "                    try:\n",
    "                        embed.append(self.w2v.word2vec[word])\n",
    "                    except KeyError as e:\n",
    "                        embed.append(np.zeros(list(self.w2v.word2vec.values())[0].shape[0]))\n",
    "                \n",
    "                # compute the mean\n",
    "                sentemb.append(np.mean(embed, axis=0))\n",
    "            else:\n",
    "                # idf-weighted mean of word vectors\n",
    "                embed = []\n",
    "                \n",
    "                # compute the idf-weighted embeding for the different words of sent\n",
    "                for word in sent.split():\n",
    "                    try:\n",
    "                        embed.append(idf[word] * self.w2v.word2vec[word])\n",
    "                    except KeyError as e:\n",
    "                        embed.append(np.zeros(list(self.w2v.word2vec.values())[0].shape[0]))\n",
    "                        \n",
    "                # compute the idf-weighted representation\n",
    "                sentemb.append(np.mean(embed, axis=0))\n",
    "\n",
    "        return np.vstack(sentemb)\n",
    "\n",
    "    def most_similar(self, s, sentences, idf=False, K=5):\n",
    "        # get most similar sentences and **print** them\n",
    "        keys = self.encode(sentences, idf)\n",
    "        query = self.encode([s], idf)\n",
    "        \n",
    "        # normalization\n",
    "        keys /= np.linalg.norm(keys, axis=1).reshape(-1, 1)\n",
    "        query /= np.linalg.norm(query)\n",
    "        scores = keys.dot(query.T).reshape(-1)\n",
    "        scores = np.nan_to_num(scores)\n",
    "        order = np.argsort(scores)[-K :][::-1]\n",
    "        print(\"The {} most similar sentences to: '{}' are:\".format(K, s))\n",
    "        for i, x in enumerate(order):\n",
    "            print(\"\\t {} - {} | {}\".format(i+1, sentences[x], scores[x]))\n",
    "\n",
    "    def score(self, s1, s2, idf=False):\n",
    "        # cosine similarity: use   np.dot  and  np.linalg.norm\n",
    "        embed1 = self.encode([s1], idf)\n",
    "        embed2 = self.encode([s2], idf)\n",
    "        if np.linalg.norm(embed1) != 0 and np.linalg.norm(embed2) != 0:\n",
    "            return float(np.dot(embed1, embed2.T) / (np.linalg.norm(embed1) * np.linalg.norm(embed2)))\n",
    "        else:\n",
    "            return 0\n",
    "    \n",
    "    def build_idf(self, sentences):\n",
    "        # build the idf dictionary: associate each word to its idf value\n",
    "        idf = {}\n",
    "        for sent in sentences:\n",
    "            for w in set(sent.split()):\n",
    "                idf[w] = idf.get(w, 0) + 1\n",
    "        \n",
    "        for word in idf.keys():\n",
    "            idf[word] = max(1, np.log10(len(sentences) / (idf[word])))\n",
    "        return idf\n"
   ]
  },
  {
   "cell_type": "code",
   "execution_count": 9,
   "metadata": {},
   "outputs": [
    {
     "name": "stdout",
     "output_type": "stream",
     "text": [
      "Loaded 5000 pretrained word vectors\n",
      "Idf Builded\n"
     ]
    },
    {
     "name": "stderr",
     "output_type": "stream",
     "text": [
      "/home/lawliet/.local/lib/python3.6/site-packages/ipykernel_launcher.py:45: RuntimeWarning: invalid value encountered in true_divide\n"
     ]
    },
    {
     "name": "stdout",
     "output_type": "stream",
     "text": [
      "The 5 most similar sentences to: '1 smiling african american boy . ' are:\n",
      "\t 1 - 1 smiling african american boy .  | 0.9999999999999999\n",
      "\t 2 - an african american man smiling .  | 0.8693862869350131\n",
      "\t 3 - african american female in a gray dress .  | 0.8171341707934866\n",
      "\t 4 - an african american man playing a saxophone .  | 0.8141442786629289\n",
      "\t 5 - a little african american boy and girl looking up .  | 0.8138854295176445\n",
      "0.6089445116147134\n",
      "\n",
      "The 5 most similar sentences to: '1 smiling african american boy . ' are:\n",
      "\t 1 - 1 smiling african american boy .  | 1.0\n",
      "\t 2 - an african american man smiling .  | 0.8756642539700208\n",
      "\t 3 - an african american in sunglasses and a white tee-shirt smiles .  | 0.8598800488850398\n",
      "\t 4 - an african american man playing a saxophone .  | 0.8520591624752151\n",
      "\t 5 - an african american man is sitting .  | 0.8499608262212952\n"
     ]
    },
    {
     "data": {
      "text/plain": [
       "0.5963335652885747"
      ]
     },
     "execution_count": 9,
     "metadata": {},
     "output_type": "execute_result"
    }
   ],
   "source": [
    "w2v = Word2vec(os.path.join(PATH_TO_DATA, 'crawl-300d-200k.vec'), nmax=5000)\n",
    "s2v = BoV(w2v)\n",
    "\n",
    "# Load sentences in \"PATH_TO_DATA/sentences.txt\"\n",
    "sentences = [line.rstrip('\\n') for line in open(\"{}/sentences.txt\".format(PATH_TO_DATA))]\n",
    "\n",
    "\n",
    "# Build idf scores for each word\n",
    "idf = {} if False else s2v.build_idf(sentences)\n",
    "print(\"Idf Builded\")\n",
    "\n",
    "# You will be evaluated on the output of the following:\n",
    "s2v.most_similar('' if not sentences else sentences[10], sentences)  # BoV-mean\n",
    "print(s2v.score('' if not sentences else sentences[7], '' if not sentences else sentences[13]))\n",
    "\n",
    "print()\n",
    "\n",
    "s2v.most_similar('' if not sentences else sentences[10], sentences, idf)  # BoV-idf\n",
    "s2v.score('' if not sentences else sentences[7], '' if not sentences else sentences[13], idf)"
   ]
  },
  {
   "cell_type": "markdown",
   "metadata": {},
   "source": [
    "# 2) Multilingual (English-French) word embeddings"
   ]
  },
  {
   "cell_type": "markdown",
   "metadata": {},
   "source": [
    "Let's consider a bilingual dictionary of size V_a (e.g French-English).\n",
    "\n",
    "Let's define **X** and **Y** the **French** and **English** matrices.\n",
    "\n",
    "They contain the embeddings associated to the words in the bilingual dictionary.\n",
    "\n",
    "We want to find a **mapping W** that will project the source word space (e.g French) to the target word space (e.g English).\n",
    "\n",
    "Procrustes : **W\\* = argmin || W.X - Y ||  s.t  W^T.W = Id**\n",
    "has a closed form solution:\n",
    "**W = U.V^T  where  U.Sig.V^T = SVD(Y.X^T)**\n",
    "\n",
    "In what follows, you are asked to: "
   ]
  },
  {
   "cell_type": "code",
   "execution_count": 16,
   "metadata": {},
   "outputs": [
    {
     "name": "stdout",
     "output_type": "stream",
     "text": [
      "Loaded 50000 pretrained word vectors\n",
      "Loaded 50000 pretrained word vectors\n"
     ]
    }
   ],
   "source": [
    "# 1 - Download and load 50k first vectors of\n",
    "#     https://s3-us-west-1.amazonaws.com/fasttext-vectors/wiki.en.vec\n",
    "#     https://s3-us-west-1.amazonaws.com/fasttext-vectors/wiki.fr.vec\n",
    "\n",
    "# TYPE CODE HERE\n",
    "fr_w2v = Word2vec(os.path.join(PATH_TO_DATA, 'wiki.fr.vec'), 50000)\n",
    "en_w2v = Word2vec(os.path.join(PATH_TO_DATA, 'wiki.en.vec'), nmax=50000)"
   ]
  },
  {
   "cell_type": "code",
   "execution_count": 17,
   "metadata": {},
   "outputs": [
    {
     "name": "stdout",
     "output_type": "stream",
     "text": [
      "18970\n",
      "(18970, 300) (18970, 300)\n"
     ]
    }
   ],
   "source": [
    "# 2 - Get words that appear in both vocabs (= identical character strings)\n",
    "#     Use it to create the matrix X and Y (of aligned embeddings for these words)\n",
    "\n",
    "# Get vocab that exist in both dict\n",
    "intersecion = [w for w in en_w2v.word2vec if w in fr_w2v.word2vec]\n",
    "print(len(intersecion))\n",
    "\n",
    "X = np.array([fr_w2v.word2vec[w] for w in intersecion])\n",
    "Y = np.array([en_w2v.word2vec[w] for w in intersecion])\n",
    "print(X.shape, Y.shape)"
   ]
  },
  {
   "cell_type": "code",
   "execution_count": 18,
   "metadata": {},
   "outputs": [],
   "source": [
    "# 3 - Solve the Procrustes using the scipy package and: scipy.linalg.svd() and get the optimal W\n",
    "#     Now W*French_vector is in the same space as English_vector\n",
    "\n",
    "# TYPE CODE HERE\n",
    "U, sig, Vh = linalg.svd(Y.T.dot(X))\n",
    "W_fr = U.dot(Vh)"
   ]
  },
  {
   "cell_type": "code",
   "execution_count": 20,
   "metadata": {},
   "outputs": [
    {
     "name": "stdout",
     "output_type": "stream",
     "text": [
      "French to english\n",
      "The most 5 english similair words to |chat| are: rabbit, hamster, feline, poodle, squirrel\n",
      "The most 5 english similair words to |chien| are: poodle, terrier, dogs, spaniel, hamster\n",
      "The most 5 english similair words to |roi| are: vassal, kingship, throne, usurper, reigned\n",
      "The most 5 english similair words to |france| are: auvergne, luxembourg, french, paris, toulouse\n",
      "The most 5 english similair words to |porte| are: rue, entrances, entrance, fleurs, gate\n",
      "The most 5 english similair words to |joueur| are: players, defenceman, winger, footballer, hockey\n",
      "The most 5 english similair words to |pain| are: dough, butter, flour, breads, lard\n",
      "English to french\n",
      "The most 5 english similair words to |cat| are: chat, dog, chats, chien, chatte\n",
      "The most 5 english similair words to |dog| are: chien, hound, chiens, chienne, chicken\n",
      "The most 5 english similair words to |king| are: king, rois, reine, trône, queen\n",
      "The most 5 english similair words to |france| are: espagne, arras, picardie, italie, calais\n",
      "The most 5 english similair words to |door| are: portes, banquette, wagon, coffre, vitres\n",
      "The most 5 english similair words to |player| are: joueurs, player, entraîneur, entraineur, joueuse\n",
      "The most 5 english similair words to |bread| are: pains, confiture, desserts, beurre, saucisses\n"
     ]
    }
   ],
   "source": [
    "# 4 - After alignment with W, give examples of English nearest neighbors of some French words (and vice versa)\n",
    "#     You will be evaluated on that part and the code above\n",
    "\n",
    "# TYPE CODE HERE\n",
    "\n",
    "# Define function that returns most similar words to a vector\n",
    "from itertools import islice\n",
    "def cosine_sim(a, b):\n",
    "    return np.dot(a, b) / (np.linalg.norm(a) * np.linalg.norm(b))\n",
    "\n",
    "def most_similar_2_vec(w2v, vec, K=5):\n",
    "    scores = {word: cosine_sim(rep, vec) for word, rep in w2v.word2vec.items()}\n",
    "    keys = sorted(scores, key=scores.get, reverse=True)\n",
    "    return islice(keys, 1, K+1)\n",
    "\n",
    "# French --> English\n",
    "french_words = [\"chat\", \"chien\", \"roi\", \"france\", \"porte\", \"joueur\", \"pain\"]\n",
    "\n",
    "print(\"French to english\")\n",
    "for f_word in french_words:\n",
    "    if f_word in fr_w2v.word2vec:\n",
    "        words = most_similar_2_vec(en_w2v ,W_fr.dot(fr_w2v.word2vec[f_word]))\n",
    "        print(\"The most 5 english similair words to |{}| are: {}\".format(f_word, \", \".join(words)))\n",
    "        \n",
    "# English --> French\n",
    "print(\"English to french\")\n",
    "english_words = [\"cat\", \"dog\", \"king\", \"france\", \"door\", \"player\", \"bread\"]\n",
    "W_en = W_fr.T\n",
    "for e_word in english_words:\n",
    "    if e_word in en_w2v.word2vec:\n",
    "        words = most_similar_2_vec(fr_w2v ,W_en.dot(en_w2v.word2vec[e_word]))\n",
    "        print(\"The most 5 english similair words to |{}| are: {}\".format(e_word, \", \".join(words)))"
   ]
  },
  {
   "cell_type": "markdown",
   "metadata": {},
   "source": [
    "If you want to dive deeper on this subject: https://github.com/facebookresearch/MUSE"
   ]
  },
  {
   "cell_type": "markdown",
   "metadata": {},
   "source": [
    "# 3) Sentence classification with BoV and scikit-learn"
   ]
  },
  {
   "cell_type": "code",
   "execution_count": 24,
   "metadata": {},
   "outputs": [
    {
     "name": "stdout",
     "output_type": "stream",
     "text": [
      "Length of Training data: 8544\n",
      "Length of Dev data: 1101\n",
      "Length of Test data: 2210\n"
     ]
    }
   ],
   "source": [
    "# 1 - Load train/dev/test of Stanford Sentiment TreeBank (SST)\n",
    "#     (https://nlp.stanford.edu/~socherr/EMNLP2013_RNTN.pdf)\n",
    "\n",
    "# TYPE CODE HERE\n",
    "def load_data(file, test=False):\n",
    "    with open(PATH_TO_DATA + file, \"r\") as f:\n",
    "        lines = f.readlines()\n",
    "    if not test:\n",
    "        x = [line[2:].strip() for line in lines]\n",
    "        y = [int(line[0]) for line in lines]\n",
    "        return x, np.array(y)\n",
    "    else:\n",
    "        return [line.strip() for line in lines]\n",
    "\n",
    "    \n",
    "x_train, y_train = load_data('SST/stsa.fine.train', test=False)\n",
    "x_dev, y_dev = load_data('SST/stsa.fine.dev', test=False)\n",
    "x_test = load_data('SST/stsa.fine.test.X', test=True)\n",
    "\n",
    "print(\"Length of Training data:\", len(x_train))\n",
    "print(\"Length of Dev data:\", len(x_dev))\n",
    "print(\"Length of Test data:\", len(x_test))"
   ]
  },
  {
   "cell_type": "code",
   "execution_count": 56,
   "metadata": {},
   "outputs": [
    {
     "name": "stdout",
     "output_type": "stream",
     "text": [
      "Loaded 5000 pretrained word vectors\n"
     ]
    }
   ],
   "source": [
    "# 2 - Encode sentences with the BoV model above\n",
    "\n",
    "# TYPE CODE HERE\n",
    "w2v = Word2vec(os.path.join(PATH_TO_DATA, 'crawl-300d-200k.vec'), nmax=5000)\n",
    "s2v = BoV(w2v)\n",
    "\n",
    "# Using the average of words vector gives better results\n",
    "train_encoded = s2v.encode(x_train)\n",
    "dev_encoded = s2v.encode(x_dev)\n",
    "test_encoded = s2v.encode(x_test)"
   ]
  },
  {
   "cell_type": "code",
   "execution_count": 65,
   "metadata": {},
   "outputs": [
    {
     "name": "stdout",
     "output_type": "stream",
     "text": [
      "With C=0.0001, train score=0.2717696629213483 | dev score=0.25340599455040874\n",
      "With C=0.005, train score=0.3252574906367041 | dev score=0.3142597638510445\n",
      "With C=0.1, train score=0.38857677902621723 | dev score=0.36330608537693004\n",
      "With C=0.2, train score=0.4028558052434457 | dev score=0.368755676657584\n",
      "With C=0.5, train score=0.4211142322097378 | dev score=0.3896457765667575\n",
      "With C=1, train score=0.4324672284644195 | dev score=0.3760217983651226\n",
      "With C=5, train score=0.44686329588014984 | dev score=0.3851044504995459\n",
      "With C=10, train score=0.45107677902621723 | dev score=0.38419618528610355\n",
      "With C=30, train score=0.44932116104868913 | dev score=0.37329700272479566\n"
     ]
    }
   ],
   "source": [
    "# 3 - Learn Logistic Regression on top of sentence embeddings using scikit-learn\n",
    "#     (consider tuning the L2 regularization on the dev set)\n",
    "\n",
    "# TYPE CODE HERE\n",
    "from sklearn.linear_model import LogisticRegression as lr\n",
    "\n",
    "Cs = [0.0001, 0.005, 0.1, 0.2, 0.5, 1, 5, 10, 30]\n",
    "scores_train = []\n",
    "scores_dev = []\n",
    "\n",
    "for c in Cs:\n",
    "    model = lr(C=c, penalty='l2', multi_class='ovr', solver=\"liblinear\", max_iter=1000)\n",
    "    model.fit(train_encoded, y_train)\n",
    "    # Evaluate model on dev data\n",
    "    score_dev = model.score(dev_encoded, y_dev)\n",
    "    score_train = model.score(train_encoded, y_train)\n",
    "    scores_dev.append(score_dev)\n",
    "    scores_train.append(score_train)\n",
    "    print(\"With C={}, train score={} | dev score={}\".format(c, score_train, score_dev))"
   ]
  },
  {
   "cell_type": "code",
   "execution_count": 66,
   "metadata": {},
   "outputs": [
    {
     "name": "stdout",
     "output_type": "stream",
     "text": [
      "Train with C=0.5 gives best dev score 38.96%\n"
     ]
    }
   ],
   "source": [
    "best_C = Cs[np.argmax(scores)]\n",
    "print(\"Train with C={} gives best dev score {}%\".format(best_C, round(max(scores_dev) * 100, 2)))"
   ]
  },
  {
   "cell_type": "code",
   "execution_count": 58,
   "metadata": {},
   "outputs": [],
   "source": [
    "# 4 - Produce 2210 predictions for the test set (in the same order). One line = one prediction (=0,1,2,3,4).\n",
    "#     Attach the output file \"logreg_bov_y_test_sst.txt\" to your deliverable.\n",
    "#     You will be evaluated on the results of the test set.\n",
    "\n",
    "# TYPE CODE HERE\n",
    "model = lr(C=best_C, penalty='l2', multi_class='ovr', solver=\"liblinear\", max_iter=1000)\n",
    "model.fit(train_encoded, y_train)\n",
    "with open(\"logreg_bov_y_test_sst.txt\", \"w\") as f:\n",
    "    predictions = model.predict(test_encoded)\n",
    "    for pred in predictions:\n",
    "        f.write(\"{}\\n\".format(pred))"
   ]
  },
  {
   "cell_type": "code",
   "execution_count": 63,
   "metadata": {},
   "outputs": [
    {
     "data": {
      "text/plain": [
       "0.371480472297911"
      ]
     },
     "execution_count": 63,
     "metadata": {},
     "output_type": "execute_result"
    }
   ],
   "source": [
    "# BONUS!\n",
    "# 5 - Try to improve performance with another classifier\n",
    "#     Attach the output file \"XXX_bov_y_test_sst.txt\" to your deliverable (where XXX = the name of the classifier)\n",
    "\n",
    "# TYPE CODE HERE\n",
    "from sklearn.ensemble import RandomForestClassifier\n",
    "from xgboost import XGBClassifier\n",
    "from sklearn.svm import SVC\n",
    "\n",
    "# Xgboost gives the best results betwwen SVM and RandomForest\n",
    "\n",
    "model = XGBClassifier(max_depth=3,n_estimators=300,reg_lambda=1)\n",
    "model.fit(train_encoded, y_train)\n",
    "model.score(dev_encoded, y_dev)"
   ]
  },
  {
   "cell_type": "code",
   "execution_count": 64,
   "metadata": {},
   "outputs": [],
   "source": [
    "with open(\"xgboost_bov_y_test_sst.txt\", \"w\") as f:\n",
    "    predictions = model.predict(test_encoded)\n",
    "    for pred in predictions:\n",
    "        f.write(\"{}\\n\".format(pred))"
   ]
  },
  {
   "cell_type": "markdown",
   "metadata": {},
   "source": [
    "# 4) Sentence classification with LSTMs in Keras"
   ]
  },
  {
   "cell_type": "markdown",
   "metadata": {},
   "source": [
    "## 4.1 - Preprocessing"
   ]
  },
  {
   "cell_type": "code",
   "execution_count": 8,
   "metadata": {},
   "outputs": [
    {
     "name": "stdout",
     "output_type": "stream",
     "text": [
      "Collecting tensorflow-gpu\n",
      "  Using cached https://files.pythonhosted.org/packages/55/7e/bec4d62e9dc95e828922c6cec38acd9461af8abe749f7c9def25ec4b2fdb/tensorflow_gpu-1.12.0-cp36-cp36m-manylinux1_x86_64.whl\n",
      "Requirement already satisfied: termcolor>=1.1.0 in /home/lawliet/.local/lib/python3.6/site-packages (from tensorflow-gpu) (1.1.0)\n",
      "Requirement already satisfied: keras-preprocessing>=1.0.5 in /home/lawliet/.local/lib/python3.6/site-packages (from tensorflow-gpu) (1.0.5)\n",
      "Collecting protobuf>=3.6.1 (from tensorflow-gpu)\n",
      "  Using cached https://files.pythonhosted.org/packages/c2/f9/28787754923612ca9bfdffc588daa05580ed70698add063a5629d1a4209d/protobuf-3.6.1-cp36-cp36m-manylinux1_x86_64.whl\n",
      "Requirement already satisfied: absl-py>=0.1.6 in /home/lawliet/.local/lib/python3.6/site-packages (from tensorflow-gpu) (0.6.1)\n",
      "Requirement already satisfied: six>=1.10.0 in /home/lawliet/.local/lib/python3.6/site-packages (from tensorflow-gpu) (1.12.0)\n",
      "Requirement already satisfied: wheel>=0.26 in /usr/lib/python3/dist-packages (from tensorflow-gpu) (0.30.0)\n",
      "Requirement already satisfied: grpcio>=1.8.6 in /home/lawliet/.local/lib/python3.6/site-packages (from tensorflow-gpu) (1.17.1)\n",
      "Requirement already satisfied: keras-applications>=1.0.6 in /home/lawliet/.local/lib/python3.6/site-packages (from tensorflow-gpu) (1.0.6)\n",
      "Requirement already satisfied: gast>=0.2.0 in /home/lawliet/.local/lib/python3.6/site-packages (from tensorflow-gpu) (0.2.0)\n",
      "Requirement already satisfied: astor>=0.6.0 in /home/lawliet/.local/lib/python3.6/site-packages (from tensorflow-gpu) (0.7.1)\n",
      "Requirement already satisfied: tensorboard<1.13.0,>=1.12.0 in /home/lawliet/.local/lib/python3.6/site-packages (from tensorflow-gpu) (1.12.1)\n",
      "Requirement already satisfied: numpy>=1.13.3 in /home/lawliet/.local/lib/python3.6/site-packages (from tensorflow-gpu) (1.15.2)\n",
      "Requirement already satisfied: setuptools in /usr/lib/python3/dist-packages (from protobuf>=3.6.1->tensorflow-gpu) (39.0.1)\n",
      "Requirement already satisfied: h5py in /home/lawliet/.local/lib/python3.6/site-packages (from keras-applications>=1.0.6->tensorflow-gpu) (2.8.0)\n",
      "Requirement already satisfied: werkzeug>=0.11.10 in /home/lawliet/.local/lib/python3.6/site-packages (from tensorboard<1.13.0,>=1.12.0->tensorflow-gpu) (0.14.1)\n",
      "Requirement already satisfied: markdown>=2.6.8 in /home/lawliet/.local/lib/python3.6/site-packages (from tensorboard<1.13.0,>=1.12.0->tensorflow-gpu) (3.0.1)\n",
      "Installing collected packages: protobuf, tensorflow-gpu\n",
      "Successfully installed protobuf-3.6.1 tensorflow-gpu-1.12.0\n"
     ]
    },
    {
     "name": "stderr",
     "output_type": "stream",
     "text": [
      "Using TensorFlow backend.\n"
     ]
    }
   ],
   "source": [
    "!pip3 install tensorflow-gpu --user\n",
    "import keras"
   ]
  },
  {
   "cell_type": "code",
   "execution_count": 35,
   "metadata": {},
   "outputs": [
    {
     "name": "stdout",
     "output_type": "stream",
     "text": [
      "Length of Training data: 8544\n",
      "Length of Dev data: 1101\n",
      "Length of Test data: 2210\n",
      "Shape of Y_train (8544, 5)\n"
     ]
    }
   ],
   "source": [
    "# 1 - Load train/dev/test sets of SST\n",
    "PATH_TO_DATA = \"./data/\"\n",
    "\n",
    "# TYPE CODE HERE\n",
    "def load_data(file, test=False):\n",
    "    with open(PATH_TO_DATA + file, \"r\") as f:\n",
    "        lines = f.readlines()\n",
    "    if not test:\n",
    "        x = [line[2:].strip() for line in lines]\n",
    "        y = [int(line[0]) for line in lines]\n",
    "        return x, np.array(y)\n",
    "    else:\n",
    "        return [line.strip() for line in lines]\n",
    "\n",
    "    \n",
    "x_train, y_train = load_data('SST/stsa.fine.train', test=False)\n",
    "x_dev, y_dev = load_data('SST/stsa.fine.dev', test=False)\n",
    "x_test = load_data('SST/stsa.fine.test.X', test=True)\n",
    "\n",
    "print(\"Length of Training data:\", len(x_train))\n",
    "print(\"Length of Dev data:\", len(x_dev))\n",
    "print(\"Length of Test data:\", len(x_test))\n",
    "\n",
    "# To_categorical\n",
    "from keras.utils import to_categorical\n",
    "y_train = to_categorical(y_train)\n",
    "y_dev = to_categorical(y_dev)\n",
    "print(\"Shape of Y_train\", y_train.shape)"
   ]
  },
  {
   "cell_type": "code",
   "execution_count": 28,
   "metadata": {},
   "outputs": [],
   "source": [
    "# 2 - Transform text to integers using keras.preprocessing.text.one_hot function\n",
    "#     https://keras.io/preprocessing/text/\n",
    "\n",
    "# TYPE CODE HERE\n",
    "from keras.preprocessing.text import one_hot\n",
    "\n",
    "# Number of different words in dict\n",
    "sentences = x_train + x_dev + x_test\n",
    "punc = set(['!', '\"', '#', '$', '%', '&', '(', ')', '*', '+', ',', '-', '.', '/', ':', ';', '<', '=', '>', '?', '@', '[', '\\\\', ']', '^', '_', '`', '{', '|', '}', '~', '\\n', '\\t'])\n",
    "set_words = set()\n",
    "for sentence in sentences:\n",
    "    for word in sentence.split(\" \"):\n",
    "        if word not in punc:\n",
    "            set_words.add(word)\n",
    "n = len(set_words)\n",
    "\n",
    "# Creating one hot vectors\n",
    "x_train_oh = [one_hot(sent, n, filters='!\"#$%&()*+,-./:;<=>?@[\\\\]^_`{|}~\\t\\n', lower=True, split=\" \") for sent in x_train]\n",
    "x_dev_oh = [one_hot(sent, n, filters='!\"#$%&()*+,-./:;<=>?@[\\\\]^_`{|}~\\t\\n', lower=True, split=\" \") for sent in x_dev]\n",
    "x_test_oh = [one_hot(sent, n, filters='!\"#$%&()*+,-./:;<=>?@[\\\\]^_`{|}~\\t\\n', lower=True, split=\" \") for sent in x_test]"
   ]
  },
  {
   "cell_type": "markdown",
   "metadata": {},
   "source": [
    "**Padding input data**\n",
    "\n",
    "Models in Keras (and elsewhere) take batches of sentences of the same length as input. It is because Deep Learning framework have been designed to handle well Tensors, which are particularly suited for fast computation on the GPU.\n",
    "\n",
    "Since sentences have different sizes, we \"pad\" them. That is, we add dummy \"padding\" tokens so that they all have the same length.\n",
    "\n",
    "The input to a Keras model thus has this size : (batchsize, maxseqlen) where maxseqlen is the maximum length of a sentence in the batch."
   ]
  },
  {
   "cell_type": "code",
   "execution_count": 32,
   "metadata": {},
   "outputs": [],
   "source": [
    "# 3 - Pad your sequences using keras.preprocessing.sequence.pad_sequences\n",
    "#     https://keras.io/preprocessing/sequence/\n",
    "\n",
    "# TYPE CODE HERE\n",
    "from keras.preprocessing.sequence import pad_sequences\n",
    "\n",
    "\n",
    "# 50 is the max length choosen based on the length of different sets\n",
    "x_train_pad = pad_sequences(x_train_oh, maxlen=50, value=0.0)\n",
    "x_dev_pad = pad_sequences(x_dev_oh, maxlen=50, value=0.0)\n",
    "x_test_pad = pad_sequences(x_test_oh, maxlen=50, value=0.0)"
   ]
  },
  {
   "cell_type": "markdown",
   "metadata": {},
   "source": [
    "## 4.2 - Design and train your model"
   ]
  },
  {
   "cell_type": "code",
   "execution_count": 71,
   "metadata": {},
   "outputs": [
    {
     "name": "stderr",
     "output_type": "stream",
     "text": [
      "/home/lawliet/.local/lib/python3.6/site-packages/ipykernel_launcher.py:20: UserWarning: Update your `LSTM` call to the Keras 2 API: `LSTM(64, dropout=0.7, recurrent_dropout=0.7)`\n"
     ]
    }
   ],
   "source": [
    "# 4 - Design your encoder + classifier using keras.layers\n",
    "#     In Keras, Torch and other deep learning framework, we create a \"container\" which is the Sequential() module.\n",
    "#     Then we add components to this contained : the lookuptable, the LSTM, the classifier etc.\n",
    "#     All of these components are contained in the Sequential() and are trained together.\n",
    "\n",
    "\n",
    "# ADAPT CODE BELOW\n",
    "\n",
    "\n",
    "from keras.models import Sequential\n",
    "from keras.layers import Embedding, LSTM, Dense, Activation\n",
    "\n",
    "embed_dim  = 32  # word embedding dimension\n",
    "nhid       = 64  # number of hidden units in the LSTM\n",
    "vocab_size = n  # size of the vocabulary\n",
    "n_classes  = 5\n",
    "\n",
    "model = Sequential()\n",
    "model.add(Embedding(vocab_size, embed_dim))\n",
    "model.add(LSTM(nhid, dropout_W=0.7, dropout_U=0.7))\n",
    "model.add(Dense(n_classes, activation='softmax'))"
   ]
  },
  {
   "cell_type": "code",
   "execution_count": 72,
   "metadata": {},
   "outputs": [
    {
     "name": "stdout",
     "output_type": "stream",
     "text": [
      "_________________________________________________________________\n",
      "Layer (type)                 Output Shape              Param #   \n",
      "=================================================================\n",
      "embedding_7 (Embedding)      (None, None, 32)          624768    \n",
      "_________________________________________________________________\n",
      "lstm_7 (LSTM)                (None, 64)                24832     \n",
      "_________________________________________________________________\n",
      "dense_7 (Dense)              (None, 5)                 325       \n",
      "=================================================================\n",
      "Total params: 649,925\n",
      "Trainable params: 649,925\n",
      "Non-trainable params: 0\n",
      "_________________________________________________________________\n",
      "None\n"
     ]
    }
   ],
   "source": [
    "# 5 - Define your loss/optimizer/metrics\n",
    "\n",
    "# MODIFY CODE BELOW\n",
    "\n",
    "loss_classif     =  'categorical_crossentropy' # find the right loss for multi-class classification\n",
    "optimizer        =  'rmsprop' # find the right optimizer\n",
    "metrics_classif  =  ['accuracy']\n",
    "\n",
    "# Observe how easy (but blackboxed) this is in Keras\n",
    "model.compile(loss=loss_classif,\n",
    "              optimizer=optimizer,\n",
    "              metrics=metrics_classif)\n",
    "print(model.summary())"
   ]
  },
  {
   "cell_type": "code",
   "execution_count": 73,
   "metadata": {},
   "outputs": [
    {
     "name": "stderr",
     "output_type": "stream",
     "text": [
      "/home/lawliet/.local/lib/python3.6/site-packages/ipykernel_launcher.py:10: UserWarning: The `nb_epoch` argument in `fit` has been renamed `epochs`.\n",
      "  # Remove the CWD from sys.path while we load stuff.\n"
     ]
    },
    {
     "name": "stdout",
     "output_type": "stream",
     "text": [
      "Train on 8544 samples, validate on 1101 samples\n",
      "Epoch 1/12\n",
      "8544/8544 [==============================] - 8s 906us/step - loss: 1.5771 - acc: 0.2660 - val_loss: 1.5715 - val_acc: 0.2534\n",
      "Epoch 2/12\n",
      "8544/8544 [==============================] - 7s 762us/step - loss: 1.5649 - acc: 0.2795 - val_loss: 1.5658 - val_acc: 0.2870\n",
      "Epoch 3/12\n",
      "8544/8544 [==============================] - 6s 759us/step - loss: 1.5487 - acc: 0.3057 - val_loss: 1.5449 - val_acc: 0.3288\n",
      "Epoch 4/12\n",
      "8544/8544 [==============================] - 6s 738us/step - loss: 1.5056 - acc: 0.3392 - val_loss: 1.4978 - val_acc: 0.3361\n",
      "Epoch 5/12\n",
      "8544/8544 [==============================] - 6s 741us/step - loss: 1.4495 - acc: 0.3699 - val_loss: 1.4599 - val_acc: 0.3760\n",
      "Epoch 6/12\n",
      "8544/8544 [==============================] - 6s 745us/step - loss: 1.3933 - acc: 0.4027 - val_loss: 1.4329 - val_acc: 0.3824\n",
      "Epoch 7/12\n",
      "8544/8544 [==============================] - 6s 747us/step - loss: 1.3303 - acc: 0.4340 - val_loss: 1.4173 - val_acc: 0.3860\n",
      "Epoch 8/12\n",
      "8544/8544 [==============================] - 6s 738us/step - loss: 1.2905 - acc: 0.4533 - val_loss: 1.4232 - val_acc: 0.3906\n",
      "Epoch 9/12\n",
      "8544/8544 [==============================] - 6s 739us/step - loss: 1.2466 - acc: 0.4716 - val_loss: 1.4293 - val_acc: 0.3769\n",
      "Epoch 10/12\n",
      "8544/8544 [==============================] - 6s 755us/step - loss: 1.2236 - acc: 0.4870 - val_loss: 1.4464 - val_acc: 0.3651\n",
      "Epoch 11/12\n",
      "8544/8544 [==============================] - 6s 753us/step - loss: 1.1819 - acc: 0.5056 - val_loss: 1.4467 - val_acc: 0.3733\n",
      "Epoch 12/12\n",
      "8544/8544 [==============================] - 6s 751us/step - loss: 1.1445 - acc: 0.5236 - val_loss: 1.4908 - val_acc: 0.3724\n"
     ]
    },
    {
     "data": {
      "image/png": "[encoded data removed]",
      "text/plain": [
       "<Figure size 432x288 with 1 Axes>"
      ]
     },
     "metadata": {
      "needs_background": "light"
     },
     "output_type": "display_data"
    },
    {
     "data": {
      "image/png": "[encoded data removed]",
      "text/plain": [
       "<Figure size 432x288 with 1 Axes>"
      ]
     },
     "metadata": {
      "needs_background": "light"
     },
     "output_type": "display_data"
    }
   ],
   "source": [
    "# 6 - Train your model and find the best hyperparameters for your dev set\n",
    "#     you will be evaluated on the quality of your predictions on the test set\n",
    "from keras.callbacks import ModelCheckpoint\n",
    "\n",
    "# ADAPT CODE BELOW\n",
    "bs = 64\n",
    "n_epochs = 12\n",
    "\n",
    "# Save best model\n",
    "mcp1 = ModelCheckpoint('weights.best.hdf5', monitor=\"val_acc\",save_best_only=True, save_weights_only=False)\n",
    "history = model.fit(x_train_pad, y_train, batch_size=bs, nb_epoch=n_epochs, validation_data=(x_dev_pad, y_dev), callbacks = [mcp1])\n",
    "\n",
    "# summarize history for accuracy\n",
    "plt.plot(history.history['acc'])\n",
    "plt.plot(history.history['val_acc'])\n",
    "plt.title('Accuracy')\n",
    "plt.ylabel('accuracy')\n",
    "plt.xlabel('epoch')\n",
    "plt.legend(['train', 'test'], loc='upper left')\n",
    "\n",
    "plt.show()\n",
    "# summarize history for loss\n",
    "plt.plot(history.history['loss'])\n",
    "plt.plot(history.history['val_loss'])\n",
    "plt.title('Loss')\n",
    "plt.ylabel('loss')\n",
    "plt.xlabel('epoch')\n",
    "plt.legend(['train', 'test'], loc='upper left')\n",
    "plt.show()"
   ]
  },
  {
   "cell_type": "code",
   "execution_count": 75,
   "metadata": {},
   "outputs": [],
   "source": [
    "# 7 - Generate your predictions on the test set using model.predict(x_test)\n",
    "#     https://keras.io/models/model/\n",
    "#     Log your predictions in a file (one line = one integer: 0,1,2,3,4)\n",
    "#     Attach the output file \"logreg_lstm_y_test_sst.txt\" to your deliverable.\n",
    "\n",
    "# TYPE CODE HERE\n",
    "model = keras.models.load_model('weights.best.hdf5')\n",
    "predictions = model.predict(x_test_pad)\n",
    "predictions = [np.argmax(pred) for pred in predictions]\n",
    "\n",
    "with open(\"logreg_lstm_y_test_sst.txt\", \"w\") as f:\n",
    "    for pred in predictions:\n",
    "        f.write(\"{}\\n\".format(pred))"
   ]
  },
  {
   "cell_type": "markdown",
   "metadata": {},
   "source": [
    "## 4.3 -- innovate !"
   ]
  },
  {
   "cell_type": "code",
   "execution_count": null,
   "metadata": {
    "collapsed": true
   },
   "outputs": [],
   "source": [
    "# 8 - Open question: find a model that is better on your dev set\n",
    "#     (e.g: use a 1D ConvNet, use a better classifier, pretrain your lookup tables ..)\n",
    "#     you will get point if the results on the test set are better: be careful of not overfitting your dev set too much..\n",
    "#     Attach the output file \"XXX_XXX_y_test_sst.txt\" to your deliverable.\n",
    "\n",
    "# TYPE CODE HERE\n"
   ]
  }
 ],
 "metadata": {
  "kernelspec": {
   "display_name": "tensorflow",
   "language": "python",
   "name": "tensorflow"
  },
  "language_info": {
   "codemirror_mode": {
    "name": "ipython",
    "version": 3
   },
   "file_extension": ".py",
   "mimetype": "text/x-python",
   "name": "python",
   "nbconvert_exporter": "python",
   "pygments_lexer": "ipython3",
   "version": "3.6.7"
  }
 },
 "nbformat": 4,
 "nbformat_minor": 1
}
