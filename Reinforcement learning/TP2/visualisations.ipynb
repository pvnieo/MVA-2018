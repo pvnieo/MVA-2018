{
 "cells": [
  {
   "cell_type": "markdown",
   "metadata": {},
   "source": [
    "## Imports"
   ]
  },
  {
   "cell_type": "code",
   "execution_count": 1,
   "metadata": {},
   "outputs": [],
   "source": [
    "# stdlib\n",
    "import matplotlib.pyplot as plt\n",
    "import seaborn as sns\n",
    "from tqdm import tqdm\n",
    "sns.set_style(\"white\")\n",
    "import numpy as np\n",
    "from time import time\n",
    "%matplotlib inline\n",
    "# project\n",
    "from TP2_python.arms import ArmBernoulli, ArmBeta, ArmExp, ArmFinite\n",
    "from TP2_python.linearmab_models import ToyLinearModel, ColdStartMovieLensModel"
   ]
  },
  {
   "cell_type": "markdown",
   "metadata": {},
   "source": [
    "# 1. Stochastic Multi-Armed Bandits on Simulated Data"
   ]
  },
  {
   "cell_type": "markdown",
   "metadata": {},
   "source": [
    "## 1.1 Bernoulli bandit models"
   ]
  },
  {
   "cell_type": "code",
   "execution_count": 2,
   "metadata": {},
   "outputs": [],
   "source": [
    "# definition of bandit models\n",
    "K = 5\n",
    "\n",
    "# First Bandit problem\n",
    "arm0 = ArmBernoulli(0.17, random_state=np.random.randint(1, 100000))\n",
    "arm1 = ArmBernoulli(0.29, random_state=np.random.randint(1, 100000))\n",
    "arm2 = ArmBernoulli(0.24, random_state=np.random.randint(1, 100000))\n",
    "arm3 = ArmBernoulli(0.20, random_state=np.random.randint(1, 100000))\n",
    "arm4 = ArmBernoulli(0.11, random_state=np.random.randint(1, 100000))\n",
    "\n",
    "MAB1 = [arm0, arm1, arm2, arm3, arm4]\n",
    "means1 = [el.mean for el in MAB1]\n",
    "\n",
    "# Second Bandit problem\n",
    "arm00 = ArmBernoulli(0.50, random_state=np.random.randint(1, 100000))\n",
    "arm11 = ArmBernoulli(0.35, random_state=np.random.randint(1, 100000))\n",
    "arm33 = ArmBernoulli(0.45, random_state=np.random.randint(1, 100000))\n",
    "arm22 = ArmBernoulli(0.40, random_state=np.random.randint(1, 100000))\n",
    "\n",
    "MAB2 = [arm00, arm11, arm22]\n",
    "means2 = [el.mean for el in MAB2]"
   ]
  },
  {
   "cell_type": "markdown",
   "metadata": {},
   "source": [
    "#### 1.a UCB1"
   ]
  },
  {
   "cell_type": "code",
   "execution_count": 154,
   "metadata": {},
   "outputs": [],
   "source": [
    "def one_ucb1(MAB, N_t, S_t, t, gho):\n",
    "    \"\"\"Compute one iteration of the UCB1 algorithm.\n",
    "    \n",
    "    Parameters:\n",
    "    -----------\n",
    "    \n",
    "    MAB: list (arms)\n",
    "        Multi arm bandit arms\n",
    "    N_t: array, shape = [n_arms,]\n",
    "        Number of draws of arms up to time t\n",
    "    S_t: array, shape = [n_arms,]\n",
    "        Sum of rewards gathered up to time t\n",
    "    t: int\n",
    "        Time of the step\n",
    "    gho: float\n",
    "        Parameter of the algorithm\n",
    "    \n",
    "    Returns:\n",
    "    --------\n",
    "    arm: integer\n",
    "        id of arm to be pulled chosen by the algorithm\n",
    "    reward: float\n",
    "        The reward obtained\n",
    "    N_t: array, shape = [n_arms,]\n",
    "        Updated N_t\n",
    "    S_t: array, shape = [n_arms,]\n",
    "        Updated S_t\n",
    "    t: int\n",
    "        Next time ;)\n",
    "    \"\"\"\n",
    "    \n",
    "    mu = S_t / N_t\n",
    "    temp = gho * np.sqrt(np.log(t) / (2 * N_t))\n",
    "    temp = mu + temp\n",
    "    arm = np.argmax(temp)\n",
    "    reward = float(MAB[arm].sample())\n",
    "    N_t[arm] = N_t[arm] + 1\n",
    "    S_t[arm] = S_t[arm] + reward\n",
    "    t = t + 1\n",
    "    return arm, reward, N_t, S_t, t\n",
    "\n",
    "def ucb1(T, MAB, gho=1):\n",
    "    \"\"\"Simulate a bandit game of length T with the UCB1.\n",
    "    \n",
    "    Parameters:\n",
    "    -----------\n",
    "    T: int\n",
    "        Length of the simulation\n",
    "    MAB: list (arms)\n",
    "        Multi arm bandit arms\n",
    "    gho: float (optional)\n",
    "        Parameter of the algorithm\n",
    "    \n",
    "    Returns:\n",
    "    --------\n",
    "    rew: list(float)\n",
    "        Sequence of the T rewards obtained\n",
    "    draws: list(int)\n",
    "        Sequence of the T arms drawn\n",
    "    \"\"\"\n",
    "    rew, draws = [], []\n",
    "    K = len(MAB)\n",
    "    N_t = np.zeros(K)\n",
    "    S_t = np.zeros(K)\n",
    "    if T <= K:\n",
    "        for i in range(T):\n",
    "            N_t[i] = 1\n",
    "            S_t[i] = int(MAB[i].sample())\n",
    "            return list(S_t), list(range(T))\n",
    "    else:\n",
    "        for i in range(K):\n",
    "            N_t[i] = 1\n",
    "            S_t[i] = int(MAB[i].sample())\n",
    "        t = K + 1\n",
    "        rew, draws = list(S_t), list(range(K))\n",
    "        for i in range(T - K):\n",
    "            arm, reward, N_t, S_t, t = one_ucb1(MAB, N_t, S_t, t, gho)\n",
    "            rew.append(reward)\n",
    "            draws.append(arm)\n",
    "    return rew, draws"
   ]
  },
  {
   "cell_type": "markdown",
   "metadata": {},
   "source": [
    "#### 1.b TS"
   ]
  },
  {
   "cell_type": "code",
   "execution_count": 5,
   "metadata": {},
   "outputs": [],
   "source": [
    "def one_ts(MAB, N_t, S_t):\n",
    "    \"\"\"Compute one iteration of the Thompson Sampling strategy.\n",
    "    \n",
    "    Parameters:\n",
    "    -----------\n",
    "    \n",
    "    MAB: list (arms)\n",
    "        Multi arm bandit arms\n",
    "    N_t: array, shape = [n_arms,]\n",
    "        Number of draws of arms up to time t\n",
    "    S_t: array, shape = [n_arms,]\n",
    "        Sum of rewards gathered up to time t\n",
    "    \n",
    "    Returns:\n",
    "    --------\n",
    "    arm: integer\n",
    "        id of arm to be pulled chosen by the algorithm\n",
    "    reward: float\n",
    "        The reward obtained\n",
    "    N_t: array, shape = [n_arms,]\n",
    "        Updated N_t\n",
    "    S_t: array, shape = [n_arms,]\n",
    "        Updated S_t\n",
    "    \"\"\"\n",
    "    K = len(MAB)\n",
    "    betas = np.array([np.random.beta(S_t[i] + 1, N_t[i] - S_t[i] + 1)  for i in range(K)])\n",
    "    arm = np.argmax(betas)\n",
    "    reward = float(MAB[arm].sample())\n",
    "    N_t[arm] = N_t[arm] + 1\n",
    "    S_t[arm] = S_t[arm] + reward\n",
    "    return arm, reward, N_t, S_t\n",
    "\n",
    "def ts(T, MAB):\n",
    "    \"\"\"Simulate a bandit game of length T with the Thompson Sampling strategy.\n",
    "    \n",
    "    Parameters:\n",
    "    -----------\n",
    "    T: int\n",
    "        Length of the simulation\n",
    "    MAB: list (arms)\n",
    "        Multi arm bandit arms\n",
    "    \n",
    "    Returns:\n",
    "    --------\n",
    "    rew: list(float)\n",
    "        Sequence of the T rewards obtained\n",
    "    draws: list(int)\n",
    "        Sequence of the T arms drawn\n",
    "    \"\"\"\n",
    "    rew, draws = [], []\n",
    "    K = len(MAB)\n",
    "    N_t = np.zeros(K)\n",
    "    S_t = np.zeros(K)\n",
    "    if T <= K:\n",
    "        for i in range(T):\n",
    "            N_t[i] = 1\n",
    "            S_t[i] = int(MAB[i].sample())\n",
    "            return list(S_t), list(range(T))\n",
    "    else:\n",
    "        for i in range(K):\n",
    "            N_t[i] = 1\n",
    "            S_t[i] = int(MAB[i].sample())\n",
    "            \n",
    "        rew, draws = list(S_t), list(range(K))\n",
    "        for i in range(T - K):\n",
    "            arm, reward, N_t, S_t= one_ts(MAB, N_t, S_t)\n",
    "            rew.append(reward)\n",
    "            draws.append(arm)\n",
    "    return rew, draws"
   ]
  },
  {
   "cell_type": "markdown",
   "metadata": {},
   "source": [
    "#### Naive strategy"
   ]
  },
  {
   "cell_type": "code",
   "execution_count": 80,
   "metadata": {},
   "outputs": [],
   "source": [
    "def one_ns(MAB, N_t, S_t):\n",
    "    \"\"\"Compute one iteration of the naive strategy.\n",
    "    \n",
    "    Parameters:\n",
    "    -----------\n",
    "    \n",
    "    MAB: list (arms)\n",
    "        Multi arm bandit arms\n",
    "    N_t: array, shape = [n_arms,]\n",
    "        Number of draws of arms up to time t\n",
    "    S_t: array, shape = [n_arms,]\n",
    "        Sum of rewards gathered up to time t\n",
    "    \n",
    "    Returns:\n",
    "    --------\n",
    "    arm: integer\n",
    "        id of arm to be pulled chosen by the algorithm\n",
    "    reward: float\n",
    "        The reward obtained\n",
    "    N_t: array, shape = [n_arms,]\n",
    "        Updated N_t\n",
    "    S_t: array, shape = [n_arms,]\n",
    "        Updated S_t\n",
    "    \"\"\"\n",
    "    K = len(MAB)\n",
    "    scores = S_t / N_t\n",
    "    arm = np.argmax(scores)\n",
    "    reward = float(MAB[arm].sample())\n",
    "    N_t[arm] = N_t[arm] + 1\n",
    "    S_t[arm] = S_t[arm] + reward\n",
    "    return arm, reward, N_t, S_t\n",
    "\n",
    "def ns(T, MAB):\n",
    "    \"\"\"Simulate a bandit game of length T with the naive strategy.\n",
    "    \n",
    "    Parameters:\n",
    "    -----------\n",
    "    T: int\n",
    "        Length of the simulation\n",
    "    MAB: list (arms)\n",
    "        Multi arm bandit arms\n",
    "    \n",
    "    Returns:\n",
    "    --------\n",
    "    rew: list(float)\n",
    "        Sequence of the T rewards obtained\n",
    "    draws: list(int)\n",
    "        Sequence of the T arms drawn\n",
    "    \"\"\"\n",
    "    rew, draws = [], []\n",
    "    K = len(MAB)\n",
    "    N_t = np.zeros(K)\n",
    "    S_t = np.zeros(K)\n",
    "    if T <= K:\n",
    "        for i in range(T):\n",
    "            N_t[i] = 1\n",
    "            S_t[i] = int(MAB[i].sample())\n",
    "            return list(S_t), list(range(T))\n",
    "    else:\n",
    "        for i in range(K):\n",
    "            N_t[i] = 1\n",
    "            S_t[i] = int(MAB[i].sample())\n",
    "            \n",
    "        rew, draws = list(S_t), list(range(K))\n",
    "        for i in range(T - K):\n",
    "            arm, reward, N_t, S_t= one_ns(MAB, N_t, S_t)\n",
    "            rew.append(reward)\n",
    "            draws.append(arm)\n",
    "    return rew, draws"
   ]
  },
  {
   "cell_type": "markdown",
   "metadata": {},
   "source": [
    "#### 2. Regret curve"
   ]
  },
  {
   "cell_type": "code",
   "execution_count": 200,
   "metadata": {},
   "outputs": [],
   "source": [
    "def expected_regret(MAB, T, n, algos):\n",
    "    \"\"\"Return the expected regret of the algorithm algo\n",
    "    \n",
    "    Parameters:\n",
    "    -----------\n",
    "    MAB: list (arms)\n",
    "        Multi arm bandit arms\n",
    "    T: int\n",
    "        Time horizon\n",
    "    n: int\n",
    "        Number of simulations\n",
    "    algos: list (str), possible choices = [ucb1, ts, ns]\n",
    "        List of choseen algorithms\n",
    "        \n",
    "    returns:\n",
    "    --------\n",
    "    regrets: array, shape=(n_algos, T)\n",
    "        regret for the algos\n",
    "    \"\"\"\n",
    "    algo = {\"ucb1\": ucb1, \"ts\": ts, \"ns\": ns, \"adapted_ts\": adapted_ts}\n",
    "    means = [el.mean for el in MAB]\n",
    "    max_reward = max(means)\n",
    "    regrets = np.zeros((len(algos), n, T))\n",
    "    for s in tqdm(range(n)):\n",
    "        for i, alg in enumerate(algos):\n",
    "            rew, _ = algo[alg](T, MAB)\n",
    "            regrets[i, s, :] = np.array(max_reward) - rew\n",
    "    regrets = regrets.mean(axis=1)\n",
    "    for i in range(1, T):\n",
    "        regrets[:, i] = regrets[:, i - 1] + regrets[:, i]\n",
    "    return regrets"
   ]
  },
  {
   "cell_type": "code",
   "execution_count": 147,
   "metadata": {},
   "outputs": [
    {
     "name": "stderr",
     "output_type": "stream",
     "text": [
      "100%|██████████| 100/100 [00:00<00:00, 2404.78it/s]\n"
     ]
    },
    {
     "data": {
      "text/plain": [
       "array([[0.12, 0.21, 0.31, 0.42, 0.6 , 0.69, 0.77, 0.81, 0.95, 1.04, 1.09,\n",
       "        1.15, 1.2 , 1.31, 1.36, 1.39, 1.45, 1.47, 1.6 , 1.67]])"
      ]
     },
     "execution_count": 147,
     "metadata": {},
     "output_type": "execute_result"
    }
   ],
   "source": [
    "expected_regret(MAB1, 20, 100, [\"ucb1\", \"ts\", \"ns\"])"
   ]
  },
  {
   "cell_type": "markdown",
   "metadata": {},
   "source": [
    "#### 3. Lai and Robbins lower bound"
   ]
  },
  {
   "cell_type": "code",
   "execution_count": 8,
   "metadata": {},
   "outputs": [],
   "source": [
    "def KL(x, y):\n",
    "    \"\"\"Compute KL for x & y\"\"\"\n",
    "    t1 = x * np.log(x/y)\n",
    "    t2 = (1 - x) * np.log((1 - x) / (1 - y))\n",
    "    return t1 + t2\n",
    "\n",
    "def compute_C(MAB):\n",
    "    \"\"\"Compute the complexity of MAB\n",
    "    \n",
    "    Parameters:\n",
    "    -----------\n",
    "    MAB: list (arms)\n",
    "        Multi arm bandit arms\n",
    "    \n",
    "    Returns:\n",
    "    --------\n",
    "    C: float\n",
    "        Complexity of MAB\n",
    "    \"\"\"\n",
    "    means = [el.mean for el in MAB]\n",
    "    ps = max(means)\n",
    "    c = sum([(ps - p) / KL(p, ps) for p in means if p != ps])\n",
    "    return c\n",
    "\n",
    "def oracle(T, C):\n",
    "    \"\"\"Compute the oracle curve for T.\n",
    "    \n",
    "    Parameters:\n",
    "    -----------\n",
    "    T: int\n",
    "        Value that will be used to compute oracle\n",
    "    C: float\n",
    "        Complexity of the MAB\n",
    "    \n",
    "    Returns:\n",
    "    --------\n",
    "    oracle: float\n",
    "        Value of the oracle at T\n",
    "    \"\"\"\n",
    "    return C * np.log(T)"
   ]
  },
  {
   "cell_type": "code",
   "execution_count": 62,
   "metadata": {},
   "outputs": [
    {
     "data": {
      "text/plain": [
       "146.34514619219934"
      ]
     },
     "execution_count": 62,
     "metadata": {},
     "output_type": "execute_result"
    }
   ],
   "source": [
    "compute_C(MAB1)\n",
    "np.log(5000) * compute_C(MAB1)\n",
    "#1 / KL(0.5, 0.47)"
   ]
  },
  {
   "cell_type": "markdown",
   "metadata": {},
   "source": [
    "### Q1. Plots"
   ]
  },
  {
   "cell_type": "code",
   "execution_count": 155,
   "metadata": {},
   "outputs": [],
   "source": [
    "T = 10000\n",
    "n = 100\n",
    "algos = [\"ucb1\", \"ts\", \"ns\"]\n",
    "MAB = MAB1"
   ]
  },
  {
   "cell_type": "code",
   "execution_count": 171,
   "metadata": {},
   "outputs": [
    {
     "name": "stderr",
     "output_type": "stream",
     "text": [
      "100%|██████████| 100/100 [00:28<00:00,  3.51it/s]\n"
     ]
    }
   ],
   "source": [
    "# For MAB1\n",
    "regrets = expected_regret(MAB, T, n, algos)\n",
    "ucb1_regrets = regrets[0, :]\n",
    "ts_regrets = regrets[1, :]\n",
    "naive_regrets = regrets[2, :]\n",
    "C1 = compute_C(MAB)\n",
    "oracles = [oracle(i, C1) for i in range(1 , T + 1)]"
   ]
  },
  {
   "cell_type": "code",
   "execution_count": 172,
   "metadata": {},
   "outputs": [
    {
     "data": {
      "image/png": "[encoded data removed]",
      "text/plain": [
       "<Figure size 432x288 with 1 Axes>"
      ]
     },
     "metadata": {
      "needs_background": "light"
     },
     "output_type": "display_data"
    }
   ],
   "source": [
    "plt.plot(ucb1_regrets)\n",
    "plt.plot(ts_regrets)\n",
    "plt.plot(naive_regrets)\n",
    "plt.plot(oracles)\n",
    "plt.xlabel(\"T\")\n",
    "plt.ylabel(\"Regrets\")\n",
    "plt.title(\"5 arms, Complexity = {}\".format(round(C1, 2)))\n",
    "plt.legend(['UCB1', 'Thompson Sampling', 'Naive strategy', 'Oracle regret'])\n",
    "plt.savefig('./report/1q1.png')"
   ]
  },
  {
   "cell_type": "code",
   "execution_count": 173,
   "metadata": {},
   "outputs": [
    {
     "name": "stderr",
     "output_type": "stream",
     "text": [
      "100%|██████████| 100/100 [00:25<00:00,  3.87it/s]\n"
     ]
    }
   ],
   "source": [
    "# For MAB2\n",
    "regrets2 = expected_regret(MAB2, T, n, algos)\n",
    "ucb1_regrets2 = regrets2[0, :]\n",
    "ts_regrets2 = regrets2[1, :]\n",
    "naive_regrets2 = regrets2[2, :]\n",
    "C2 = compute_C(MAB2)\n",
    "oracles2 = [oracle(i, C2) for i in range(1 , T + 1)]"
   ]
  },
  {
   "cell_type": "code",
   "execution_count": 174,
   "metadata": {},
   "outputs": [
    {
     "data": {
      "image/png": "[encoded data removed]",
      "text/plain": [
       "<Figure size 432x288 with 1 Axes>"
      ]
     },
     "metadata": {
      "needs_background": "light"
     },
     "output_type": "display_data"
    }
   ],
   "source": [
    "plt.plot(ucb1_regrets2)\n",
    "plt.plot(ts_regrets2)\n",
    "plt.plot(naive_regrets2)\n",
    "plt.plot(oracles2)\n",
    "plt.xlabel(\"T\")\n",
    "plt.ylabel(\"Regrets\")\n",
    "plt.title(\"4 arms, Complexity = {}\".format(round(C2, 2)))\n",
    "plt.legend(['UCB1', 'Thompson Sampling', 'Naive strategy', 'Oracle regret'])\n",
    "plt.savefig('./report/1q1b.png')"
   ]
  },
  {
   "cell_type": "markdown",
   "metadata": {},
   "source": [
    "## 1.2 Non-parametric bandits (bounded rewards)"
   ]
  },
  {
   "cell_type": "code",
   "execution_count": 187,
   "metadata": {},
   "outputs": [],
   "source": [
    "# definition of bandit model\n",
    "arm0 = ArmBernoulli(0.42, random_state=np.random.randint(1, 100000))\n",
    "arm1 = ArmBeta(1, 2, random_state=np.random.randint(1, 100000))\n",
    "arm2 =  ArmExp(4, random_state=np.random.randint(1, 100000))\n",
    "arm3 = ArmBernoulli(0.52, random_state=np.random.randint(1, 100000))\n",
    "arm4 = ArmBeta(4, 9, random_state=np.random.randint(1, 100000))\n",
    "arm5 =  ArmExp(2.5, random_state=np.random.randint(1, 100000))\n",
    "# Mixed MAB\n",
    "MABM = [arm0, arm1, arm2, arm3, arm4, arm5]"
   ]
  },
  {
   "cell_type": "markdown",
   "metadata": {},
   "source": [
    "#### Adapted TS"
   ]
  },
  {
   "cell_type": "code",
   "execution_count": 197,
   "metadata": {},
   "outputs": [],
   "source": [
    "def one_ts(MAB, N_t, S_t):\n",
    "    \"\"\"Compute one iteration of the adapted Thompson Sampling strategy.\n",
    "    \n",
    "    Parameters:\n",
    "    -----------\n",
    "    \n",
    "    MAB: list (arms)\n",
    "        Multi arm bandit arms\n",
    "    N_t: array, shape = [n_arms,]\n",
    "        Number of draws of arms up to time t\n",
    "    S_t: array, shape = [n_arms,]\n",
    "        Sum of rewards gathered up to time t\n",
    "    \n",
    "    Returns:\n",
    "    --------\n",
    "    arm: integer\n",
    "        id of arm to be pulled chosen by the algorithm\n",
    "    reward: float\n",
    "        The reward obtained\n",
    "    N_t: array, shape = [n_arms,]\n",
    "        Updated N_t\n",
    "    S_t: array, shape = [n_arms,]\n",
    "        Updated S_t\n",
    "    \"\"\"\n",
    "    K = len(MAB)\n",
    "    betas = np.array([np.random.beta(S_t[i] + 1, N_t[i] - S_t[i] + 1)  for i in range(K)])\n",
    "    arm = np.argmax(betas)\n",
    "    reward = float(MAB[arm].sample())\n",
    "    reward = float(ArmBernoulli(reward, random_state=np.random.randint(1, 100000)).sample())\n",
    "    N_t[arm] = N_t[arm] + 1\n",
    "    S_t[arm] = S_t[arm] + reward\n",
    "    return arm, reward, N_t, S_t\n",
    "\n",
    "def adapted_ts(T, MAB):\n",
    "    \"\"\"Simulate a bandit game of length T with the adapted Thompson Sampling strategy.\n",
    "    \n",
    "    Parameters:\n",
    "    -----------\n",
    "    T: int\n",
    "        Length of the simulation\n",
    "    MAB: list (arms)\n",
    "        Multi arm bandit arms\n",
    "    \n",
    "    Returns:\n",
    "    --------\n",
    "    rew: list(float)\n",
    "        Sequence of the T rewards obtained\n",
    "    draws: list(int)\n",
    "        Sequence of the T arms drawn\n",
    "    \"\"\"\n",
    "    rew, draws = [], []\n",
    "    K = len(MAB)\n",
    "    N_t = np.zeros(K)\n",
    "    S_t = np.zeros(K)\n",
    "    if T <= K:\n",
    "        for i in range(T):\n",
    "            N_t[i] = 1\n",
    "            S_t[i] = int(MAB[i].sample())\n",
    "            return list(S_t), list(range(T))\n",
    "    else:\n",
    "        for i in range(K):\n",
    "            N_t[i] = 1\n",
    "            S_t[i] = int(MAB[i].sample())\n",
    "            \n",
    "        rew, draws = list(S_t), list(range(K))\n",
    "        for i in range(T - K):\n",
    "            arm, reward, N_t, S_t= one_ts(MAB, N_t, S_t)\n",
    "            rew.append(reward)\n",
    "            draws.append(arm)\n",
    "    return rew, draws"
   ]
  },
  {
   "cell_type": "code",
   "execution_count": 198,
   "metadata": {},
   "outputs": [],
   "source": [
    "T = 10000\n",
    "n = 100\n",
    "algos = [\"ucb1\", \"adapted_ts\"]\n",
    "MAB = MABM"
   ]
  },
  {
   "cell_type": "code",
   "execution_count": 201,
   "metadata": {},
   "outputs": [
    {
     "name": "stderr",
     "output_type": "stream",
     "text": [
      "100%|██████████| 100/100 [00:37<00:00,  2.65it/s]\n"
     ]
    }
   ],
   "source": [
    "regrets = expected_regret(MAB, T, n, algos)\n",
    "ucb1_regrets = regrets[0, :]\n",
    "ts_regrets = regrets[1, :]"
   ]
  },
  {
   "cell_type": "code",
   "execution_count": 202,
   "metadata": {},
   "outputs": [
    {
     "data": {
      "image/png": "[encoded data removed]",
      "text/plain": [
       "<Figure size 432x288 with 1 Axes>"
      ]
     },
     "metadata": {
      "needs_background": "light"
     },
     "output_type": "display_data"
    }
   ],
   "source": [
    "plt.plot(ucb1_regrets)\n",
    "plt.plot(ts_regrets)\n",
    "plt.xlabel(\"T\")\n",
    "plt.ylabel(\"Regrets\")\n",
    "plt.title(\"Mixed MAB\")\n",
    "plt.legend(['UCB1', 'Adapted Thompson Sampling'])\n",
    "plt.savefig('./report/1q2.png')"
   ]
  },
  {
   "cell_type": "markdown",
   "metadata": {},
   "source": [
    "# 2. Linear Bandit on Real Data"
   ]
  },
  {
   "cell_type": "code",
   "execution_count": 21,
   "metadata": {},
   "outputs": [],
   "source": [
    "### LinUCB\n",
    "def lin_ucb(model, T, lmbda, alpha, n_sim=100):\n",
    "    \"\"\"Implment the Linear UCB algorithm for the MAB model 'model'\n",
    "    \n",
    "    parameters:\n",
    "    -----------\n",
    "    model: LinearMABModel\n",
    "        The MAB on which the algorith is applied\n",
    "    T: int\n",
    "        Time horizon\n",
    "    lmbda: float\n",
    "        Least squares regularisation parameter\n",
    "    alpha: float\n",
    "        Linear UCB parameter\n",
    "    n_sim: int\n",
    "        Number of simulations\n",
    "    \n",
    "    returns:\n",
    "    --------\n",
    "    regrets: array, shape=(T,)\n",
    "        regrets cumulated over the rounds\n",
    "    thetas: array, shape=(T)\n",
    "        The value of norm of difference of thetas over the rounds\n",
    "    \"\"\"\n",
    "    # Features\n",
    "    features = model.features\n",
    "    \n",
    "    # Number of features\n",
    "    d = model.n_features\n",
    "    \n",
    "    # Theta_*\n",
    "    theta_s = model.real_theta\n",
    "    \n",
    "    # stores ||theta_s - theta||\n",
    "    thetas = np.zeros((n_sim, T))\n",
    "    \n",
    "    # best reward\n",
    "    b_reward = model.best_arm_reward()\n",
    "    \n",
    "    # stores cumulative regretes\n",
    "    regrets = np.zeros((n_sim, T))\n",
    "\n",
    "    for s in tqdm(range(n_sim), desc=\"Simulating LinUCB algorithm\"):\n",
    "        A = lmbda * np.eye(d)\n",
    "        b = np.zeros(d)\n",
    "        \n",
    "        for i in range(T):\n",
    "            # estimate theta\n",
    "            theta = np.linalg.inv(A).dot(b)\n",
    "            \n",
    "            # select best arm\n",
    "            alpha = np.sqrt(d * np.log((1 + i/lmbda)/sigma)) + np.sqrt(lmbda) * np.linalg.norm(theta)\n",
    "            beta = alpha * np.sqrt(np.diag(features.dot(np.linalg.inv(A)).dot(features.T)))\n",
    "            to_max = beta + features.dot(theta).ravel()\n",
    "            arm = np.argmax(to_max)\n",
    "            \n",
    "            # save reward and theta\n",
    "            reward = float(model.reward(arm))\n",
    "            thetas[s, i] = np.linalg.norm(theta - theta_s)\n",
    "            regrets[s, i] = b_reward - reward\n",
    "            \n",
    "            # update\n",
    "            features_t = features[arm, :].reshape(-1, 1)\n",
    "            A += features_t.dot(features_t.T)\n",
    "            b += reward * features_t.flatten()\n",
    "\n",
    "    # average simulations\n",
    "    for i in range(1, T):\n",
    "        regrets[:, i] = regrets[:, i] + regrets[:, i - 1]\n",
    "    return np.mean(regrets, axis=0), np.mean(thetas, axis=0)"
   ]
  },
  {
   "cell_type": "code",
   "execution_count": 8,
   "metadata": {},
   "outputs": [],
   "source": [
    "### Random\n",
    "def random_s(model, T, lmbda, n_sim=100):\n",
    "    \"\"\"Implment the random policy for the linear MAB model 'model'\n",
    "    \n",
    "    parameters:\n",
    "    -----------\n",
    "    model: LinearMABModel\n",
    "        The MAB on which the algorith is applied\n",
    "    T: int\n",
    "        Time horizon\n",
    "    lmbda: float\n",
    "        Least squares regularisation parameter\n",
    "    n_sim: int\n",
    "        Number of simulations\n",
    "    \n",
    "    returns:\n",
    "    --------\n",
    "    regrets: array, shape=(T,)\n",
    "        regrets cumulated over the rounds\n",
    "    thetas: array, shape=(T)\n",
    "        The value of norm of difference of thetas over the rounds\n",
    "    \"\"\"\n",
    "    # Features\n",
    "    features = model.features\n",
    "    \n",
    "    # Number of features\n",
    "    d = model.n_features\n",
    "    \n",
    "    # Number of action\n",
    "    n_a = model.n_actions\n",
    "    \n",
    "    # Theta_*\n",
    "    theta_s = model.real_theta\n",
    "    \n",
    "    # stores ||theta_s - theta||\n",
    "    thetas = np.zeros((n_sim, T))\n",
    "    \n",
    "    # best reward\n",
    "    b_reward = model.best_arm_reward()\n",
    "    \n",
    "    # stores cumulative regretes\n",
    "    regrets = np.zeros((n_sim, T))\n",
    "\n",
    "    for s in tqdm(range(n_sim), desc=\"Simulating Random algorithm\"):\n",
    "        \n",
    "        A = lmbda * np.eye(d)\n",
    "        b = np.zeros(d)\n",
    "        for i in range(T):\n",
    "            # estimate theta\n",
    "            theta = np.linalg.inv(A).dot(b)\n",
    "            \n",
    "            # select  arm\n",
    "            arm = np.random.randint(n_a)\n",
    "            \n",
    "            # save reward and theta\n",
    "            reward = float(model.reward(arm))\n",
    "            thetas[s, i] = np.linalg.norm(theta - theta_s)\n",
    "            regrets[s, i] = b_reward - reward\n",
    "            \n",
    "            # update\n",
    "            features_t = features[arm, :].reshape(-1, 1)\n",
    "            A += features_t.dot(features_t.T)\n",
    "            b += reward * features_t.flatten()\n",
    "\n",
    "    # average simulations\n",
    "    for i in range(1, T):\n",
    "        regrets[:, i] = regrets[:, i] + regrets[:, i - 1]\n",
    "    return np.mean(regrets, axis=0), np.mean(thetas, axis=0)"
   ]
  },
  {
   "cell_type": "code",
   "execution_count": 9,
   "metadata": {},
   "outputs": [],
   "source": [
    "### Epsilon greedy\n",
    "def eps_greedy(model, T, lmbda, eps, n_sim=100):\n",
    "    \"\"\"Implment the epsilon greedy algorithm for the MAB model 'model'\n",
    "    \n",
    "    parameters:\n",
    "    -----------\n",
    "    model: LinearMABModel\n",
    "        The MAB on which the algorith is applied\n",
    "    T: int\n",
    "        Time horizon\n",
    "    lmbda: float\n",
    "        Least squares regularisation parameter\n",
    "    eps: float\n",
    "        The epsilon parameter\n",
    "    n_sim: int\n",
    "        Number of simulations\n",
    "    \n",
    "    returns:\n",
    "    --------\n",
    "    regrets: array, shape=(T,)\n",
    "        regrets cumulated over the rounds\n",
    "    thetas: array, shape=(T)\n",
    "        The value of norm of difference of thetas over the rounds\n",
    "    \"\"\"\n",
    "    # Features\n",
    "    features = model.features\n",
    "    \n",
    "    # Number of features\n",
    "    d = model.n_features\n",
    "    \n",
    "    # Number of action\n",
    "    n_a = model.n_actions\n",
    "    \n",
    "    # Theta_*\n",
    "    theta_s = model.real_theta\n",
    "    \n",
    "    # stores ||theta_s - theta||\n",
    "    thetas = np.zeros((n_sim, T))\n",
    "    \n",
    "    # best reward\n",
    "    b_reward = model.best_arm_reward()\n",
    "    \n",
    "    # stores cumulative regretes\n",
    "    regrets = np.zeros((n_sim, T))\n",
    "\n",
    "    for s in tqdm(range(n_sim), desc=\"Simulating LinUCB algorithm\"):\n",
    "        A = lmbda * np.eye(d)\n",
    "        b = np.zeros(d)\n",
    "        \n",
    "        for i in range(T):\n",
    "            # estimate theta\n",
    "            theta = np.linalg.inv(A).dot(b)\n",
    "            \n",
    "            # select best arm\n",
    "            if np.random.rand() < eps:\n",
    "                arm = np.random.randint(n_a)\n",
    "            else:\n",
    "                arm = np.argmax(features.dot(theta))\n",
    "            \n",
    "            # save reward and theta\n",
    "            reward = float(model.reward(arm))\n",
    "            thetas[s, i] = np.linalg.norm(theta - theta_s)\n",
    "            regrets[s, i] = b_reward - reward\n",
    "            \n",
    "            # update\n",
    "            features_t = features[arm, :].reshape(-1, 1)\n",
    "            A += features_t.dot(features_t.T)\n",
    "            b += reward * features_t.flatten()\n",
    "\n",
    "    # average simulations\n",
    "    for i in range(1, T):\n",
    "        regrets[:, i] = regrets[:, i] + regrets[:, i - 1]\n",
    "    return np.mean(regrets, axis=0), np.mean(thetas, axis=0)"
   ]
  },
  {
   "cell_type": "markdown",
   "metadata": {},
   "source": [
    "### Q3. Plots"
   ]
  },
  {
   "cell_type": "code",
   "execution_count": 3,
   "metadata": {},
   "outputs": [],
   "source": [
    "model = ColdStartMovieLensModel(random_state=np.random.randint(0, 100000),noise=0.1)\n",
    "T = 6000\n",
    "nb_simu = 100"
   ]
  },
  {
   "cell_type": "code",
   "execution_count": 6,
   "metadata": {},
   "outputs": [
    {
     "name": "stderr",
     "output_type": "stream",
     "text": [
      "Simulating LinUCB algorithm: 100%|██████████| 100/100 [06:44<00:00,  3.50s/it]\n"
     ]
    }
   ],
   "source": [
    "regrets_ucb, thetas_ucb = lin_ucb(model, T=T, lmbda=2, alpha=40, n_sim=nb_simu)"
   ]
  },
  {
   "cell_type": "code",
   "execution_count": 14,
   "metadata": {},
   "outputs": [
    {
     "name": "stderr",
     "output_type": "stream",
     "text": [
      "Simulating Random algorithm: 100%|██████████| 100/100 [02:13<00:00,  1.03s/it]\n"
     ]
    }
   ],
   "source": [
    "regrets_rand, thetas_rand = random_s(model, T=T, lmbda=1, n_sim=nb_simu)"
   ]
  },
  {
   "cell_type": "code",
   "execution_count": 18,
   "metadata": {},
   "outputs": [
    {
     "name": "stderr",
     "output_type": "stream",
     "text": [
      "Simulating LinUCB algorithm: 100%|██████████| 100/100 [01:59<00:00,  1.05s/it]\n"
     ]
    }
   ],
   "source": [
    "regrets_eps, thetas_eps = eps_greedy(model, T=T, lmbda=1, eps=0.4, n_sim=nb_simu)"
   ]
  },
  {
   "cell_type": "code",
   "execution_count": 19,
   "metadata": {},
   "outputs": [
    {
     "data": {
      "image/png": "[encoded data removed]",
      "text/plain": [
       "<Figure size 432x288 with 1 Axes>"
      ]
     },
     "metadata": {
      "needs_background": "light"
     },
     "output_type": "display_data"
    }
   ],
   "source": [
    "# Plot cumulative regret\n",
    "plt.plot(regrets_ucb)\n",
    "plt.plot(regrets_rand)\n",
    "plt.plot(regrets_eps)\n",
    "plt.xlabel(\"Rounds\")\n",
    "plt.ylabel(\"Cumulative Regret\")\n",
    "plt.legend([\"LinUCB\", \"Random\", \"Greedy\"])\n",
    "plt.savefig('./report/2q1b.png')"
   ]
  },
  {
   "cell_type": "code",
   "execution_count": 20,
   "metadata": {},
   "outputs": [
    {
     "data": {
      "image/png": "[encoded data removed]",
      "text/plain": [
       "<Figure size 432x288 with 1 Axes>"
      ]
     },
     "metadata": {
      "needs_background": "light"
     },
     "output_type": "display_data"
    }
   ],
   "source": [
    "# Plot l2 theta\n",
    "plt.plot(thetas_ucb)\n",
    "plt.plot(thetas_rand)\n",
    "plt.plot(thetas_eps)\n",
    "plt.xlabel(\"Rounds\")\n",
    "plt.ylabel(\"$\\|\\Theta - \\Theta^{*}\\|$\")\n",
    "plt.legend([\"LinUCB\", \"Random\", \"Greedy\"])\n",
    "plt.savefig('./report/2q2b.png')"
   ]
  },
  {
   "cell_type": "code",
   "execution_count": null,
   "metadata": {},
   "outputs": [],
   "source": []
  }
 ],
 "metadata": {
  "kernelspec": {
   "display_name": "Python 3",
   "language": "python",
   "name": "python3"
  },
  "language_info": {
   "codemirror_mode": {
    "name": "ipython",
    "version": 3
   },
   "file_extension": ".py",
   "mimetype": "text/x-python",
   "name": "python",
   "nbconvert_exporter": "python",
   "pygments_lexer": "ipython3",
   "version": "3.6.6"
  }
 },
 "nbformat": 4,
 "nbformat_minor": 2
}
