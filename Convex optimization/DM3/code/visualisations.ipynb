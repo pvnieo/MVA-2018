{
 "cells": [
  {
   "cell_type": "markdown",
   "metadata": {},
   "source": [
    "### Imports"
   ]
  },
  {
   "cell_type": "code",
   "execution_count": 2,
   "metadata": {},
   "outputs": [],
   "source": [
    "# project\n",
    "import importlib\n",
    "import lasso\n",
    "# 3P\n",
    "import numpy as np\n",
    "import matplotlib.pyplot as plt\n",
    "from time import time as tm\n",
    "%matplotlib inline"
   ]
  },
  {
   "cell_type": "markdown",
   "metadata": {},
   "source": [
    "### Generate Data"
   ]
  },
  {
   "cell_type": "code",
   "execution_count": 3,
   "metadata": {},
   "outputs": [],
   "source": [
    "n=50\n",
    "d=200\n",
    "\n",
    "np.random.seed(170)\n",
    "X = np.random.rand(n,d)\n",
    "np.random.seed(200)\n",
    "w = np.random.rand(d,1)\n",
    "np.random.seed(402)\n",
    "y = np.dot(X,w)+np.random.rand(n,1)\n",
    "Lambda = 10\n",
    "\n",
    "Q = 1/2*np.eye(n)\n",
    "A = np.vstack((X.T , -X.T))\n",
    "p = y\n",
    "b = Lambda * np.ones((2*d,1))\n",
    "x0 = 0*np.ones((n,1))"
   ]
  },
  {
   "cell_type": "markdown",
   "metadata": {},
   "source": [
    "### Tests"
   ]
  },
  {
   "cell_type": "code",
   "execution_count": 17,
   "metadata": {},
   "outputs": [],
   "source": [
    "eps = 1e-6\n",
    "importlib.reload(lasso)\n",
    "mus = [2, 5, 10, 15, 30, 50, 100]\n",
    "objectifs = {}\n",
    "ve = {}\n",
    "tim = {}"
   ]
  },
  {
   "cell_type": "code",
   "execution_count": 18,
   "metadata": {},
   "outputs": [
    {
     "name": "stdout",
     "output_type": "stream",
     "text": [
      "mu:  2 | objectif: -990.8932294660514\n",
      "mu:  5 | objectif: -942.0479088547976\n",
      "mu:  10 | objectif: -942.0477654726881\n",
      "mu:  15 | objectif: -942.0475748088119\n",
      "mu:  30 | objectif: -942.0471281579252\n",
      "mu:  50 | objectif: -942.046178054581\n",
      "mu:  100 | objectif: -942.0427470216617\n"
     ]
    }
   ],
   "source": [
    "for mu in mus:\n",
    "    beg = tm()\n",
    "    solver = lasso.SolveQP(Q, p, A, b, mu, eps)\n",
    "    solver.fit()\n",
    "    end = tm()\n",
    "    tim[mu] = end - beg\n",
    "    objectif = np.array(solver.objectif).reshape(-1)\n",
    "    print(\"mu: \", mu, \"| objectif:\", objectif[-1])\n",
    "    objectif = objectif - objectif[-1]\n",
    "    objectifs[mu] = objectif\n",
    "    ve[mu] = solver.optimal_v[-1]"
   ]
  },
  {
   "cell_type": "markdown",
   "metadata": {},
   "source": [
    "### Plot"
   ]
  },
  {
   "cell_type": "code",
   "execution_count": 19,
   "metadata": {},
   "outputs": [
    {
     "data": {
      "image/png": "[encoded data removed]",
      "text/plain": [
       "<Figure size 432x288 with 1 Axes>"
      ]
     },
     "metadata": {
      "needs_background": "light"
     },
     "output_type": "display_data"
    }
   ],
   "source": [
    "plt.yscale('log')\n",
    "plt.xlabel(\"Number of iterations\")\n",
    "plt.ylabel(\"|f(v) - f(v*)|\")\n",
    "plt.title(\"n = 50, d = 200\")\n",
    "for mu in mus:\n",
    "    plt.step(range(len(objectifs[mu])), objectifs[mu])\n",
    "plt.legend(mus)\n",
    "plt.savefig(\"../report/n50d200.png\")"
   ]
  },
  {
   "cell_type": "markdown",
   "metadata": {},
   "source": [
    "### Comparaison of $\\omega$ and $\\omega^*$"
   ]
  },
  {
   "cell_type": "code",
   "execution_count": 20,
   "metadata": {},
   "outputs": [],
   "source": [
    "we = {}\n",
    "for mu in mus:\n",
    "    we[mu] = np.dot(np.linalg.pinv(X),ve[mu] + y)"
   ]
  },
  {
   "cell_type": "code",
   "execution_count": 21,
   "metadata": {},
   "outputs": [
    {
     "name": "stdout",
     "output_type": "stream",
     "text": [
      "|w - w*|\n",
      "  mu       max          min      mean       std\n",
      "----  --------  -----------  --------  --------\n",
      "   2  0.752091  0.000125268  0.232393  0.146155\n",
      "   5  0.710387  9.12551e-06  0.226946  0.147418\n",
      "  10  0.710324  0.000629409  0.22694   0.147423\n",
      "  15  0.710287  0.00106743   0.226936  0.147426\n",
      "  30  0.710242  0.00172296   0.22693   0.147431\n",
      "  50  0.710175  0.00265872   0.226922  0.14744\n",
      " 100  0.710001  0.00430558   0.22692   0.147441\n"
     ]
    }
   ],
   "source": [
    "from tabulate import tabulate\n",
    "values = []\n",
    "for mu in mus:\n",
    "    difference = np.abs(we[mu] - w)\n",
    "    values.append([mu, np.max(difference), np.min(difference), np.mean(difference), np.std(difference)])\n",
    "print(\"|w - w*|\")\n",
    "print(tabulate(values, headers=[\"mu\", \"max\", \"min\", \"mean\", \"std\"]))"
   ]
  },
  {
   "cell_type": "markdown",
   "metadata": {},
   "source": [
    "### comparison of execution time"
   ]
  },
  {
   "cell_type": "code",
   "execution_count": 22,
   "metadata": {},
   "outputs": [
    {
     "name": "stdout",
     "output_type": "stream",
     "text": [
      "mu = 2 :  14.19 s\n",
      "mu = 5 :  17.24 s\n",
      "mu = 10 :  10.6 s\n",
      "mu = 15 :  9.01 s\n",
      "mu = 30 :  7.75 s\n",
      "mu = 50 :  6.26 s\n",
      "mu = 100 :  5.06 s\n"
     ]
    }
   ],
   "source": [
    "for mu in mus:\n",
    "    print(\"mu =\", mu, \": \", round(tim[mu], 2), \"s\")"
   ]
  },
  {
   "cell_type": "code",
   "execution_count": null,
   "metadata": {},
   "outputs": [],
   "source": []
  }
 ],
 "metadata": {
  "kernelspec": {
   "display_name": "Python 3",
   "language": "python",
   "name": "python3"
  },
  "language_info": {
   "codemirror_mode": {
    "name": "ipython",
    "version": 3
   },
   "file_extension": ".py",
   "mimetype": "text/x-python",
   "name": "python",
   "nbconvert_exporter": "python",
   "pygments_lexer": "ipython3",
   "version": "3.6.6"
  }
 },
 "nbformat": 4,
 "nbformat_minor": 2
}
